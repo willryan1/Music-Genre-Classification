{
 "cells": [
  {
   "cell_type": "code",
   "execution_count": 1,
   "id": "running-chicago",
   "metadata": {},
   "outputs": [
    {
     "data": {
      "text/html": [
       "<div>\n",
       "<style scoped>\n",
       "    .dataframe tbody tr th:only-of-type {\n",
       "        vertical-align: middle;\n",
       "    }\n",
       "\n",
       "    .dataframe tbody tr th {\n",
       "        vertical-align: top;\n",
       "    }\n",
       "\n",
       "    .dataframe thead th {\n",
       "        text-align: right;\n",
       "    }\n",
       "</style>\n",
       "<table border=\"1\" class=\"dataframe\">\n",
       "  <thead>\n",
       "    <tr style=\"text-align: right;\">\n",
       "      <th></th>\n",
       "      <th>filename</th>\n",
       "      <th>length</th>\n",
       "      <th>chroma_stft_mean</th>\n",
       "      <th>chroma_stft_var</th>\n",
       "      <th>rms_mean</th>\n",
       "      <th>rms_var</th>\n",
       "      <th>spectral_centroid_mean</th>\n",
       "      <th>spectral_centroid_var</th>\n",
       "      <th>spectral_bandwidth_mean</th>\n",
       "      <th>spectral_bandwidth_var</th>\n",
       "      <th>...</th>\n",
       "      <th>mfcc16_var</th>\n",
       "      <th>mfcc17_mean</th>\n",
       "      <th>mfcc17_var</th>\n",
       "      <th>mfcc18_mean</th>\n",
       "      <th>mfcc18_var</th>\n",
       "      <th>mfcc19_mean</th>\n",
       "      <th>mfcc19_var</th>\n",
       "      <th>mfcc20_mean</th>\n",
       "      <th>mfcc20_var</th>\n",
       "      <th>label</th>\n",
       "    </tr>\n",
       "  </thead>\n",
       "  <tbody>\n",
       "    <tr>\n",
       "      <th>0</th>\n",
       "      <td>blues.00000.wav</td>\n",
       "      <td>661794</td>\n",
       "      <td>0.350088</td>\n",
       "      <td>0.088757</td>\n",
       "      <td>0.130228</td>\n",
       "      <td>0.002827</td>\n",
       "      <td>1784.165850</td>\n",
       "      <td>129774.064525</td>\n",
       "      <td>2002.449060</td>\n",
       "      <td>85882.761315</td>\n",
       "      <td>...</td>\n",
       "      <td>52.420910</td>\n",
       "      <td>-1.690215</td>\n",
       "      <td>36.524071</td>\n",
       "      <td>-0.408979</td>\n",
       "      <td>41.597103</td>\n",
       "      <td>-2.303523</td>\n",
       "      <td>55.062923</td>\n",
       "      <td>1.221291</td>\n",
       "      <td>46.936035</td>\n",
       "      <td>blues</td>\n",
       "    </tr>\n",
       "    <tr>\n",
       "      <th>1</th>\n",
       "      <td>blues.00001.wav</td>\n",
       "      <td>661794</td>\n",
       "      <td>0.340914</td>\n",
       "      <td>0.094980</td>\n",
       "      <td>0.095948</td>\n",
       "      <td>0.002373</td>\n",
       "      <td>1530.176679</td>\n",
       "      <td>375850.073649</td>\n",
       "      <td>2039.036516</td>\n",
       "      <td>213843.755497</td>\n",
       "      <td>...</td>\n",
       "      <td>55.356403</td>\n",
       "      <td>-0.731125</td>\n",
       "      <td>60.314529</td>\n",
       "      <td>0.295073</td>\n",
       "      <td>48.120598</td>\n",
       "      <td>-0.283518</td>\n",
       "      <td>51.106190</td>\n",
       "      <td>0.531217</td>\n",
       "      <td>45.786282</td>\n",
       "      <td>blues</td>\n",
       "    </tr>\n",
       "    <tr>\n",
       "      <th>2</th>\n",
       "      <td>blues.00002.wav</td>\n",
       "      <td>661794</td>\n",
       "      <td>0.363637</td>\n",
       "      <td>0.085275</td>\n",
       "      <td>0.175570</td>\n",
       "      <td>0.002746</td>\n",
       "      <td>1552.811865</td>\n",
       "      <td>156467.643368</td>\n",
       "      <td>1747.702312</td>\n",
       "      <td>76254.192257</td>\n",
       "      <td>...</td>\n",
       "      <td>40.598766</td>\n",
       "      <td>-7.729093</td>\n",
       "      <td>47.639427</td>\n",
       "      <td>-1.816407</td>\n",
       "      <td>52.382141</td>\n",
       "      <td>-3.439720</td>\n",
       "      <td>46.639660</td>\n",
       "      <td>-2.231258</td>\n",
       "      <td>30.573025</td>\n",
       "      <td>blues</td>\n",
       "    </tr>\n",
       "    <tr>\n",
       "      <th>3</th>\n",
       "      <td>blues.00003.wav</td>\n",
       "      <td>661794</td>\n",
       "      <td>0.404785</td>\n",
       "      <td>0.093999</td>\n",
       "      <td>0.141093</td>\n",
       "      <td>0.006346</td>\n",
       "      <td>1070.106615</td>\n",
       "      <td>184355.942417</td>\n",
       "      <td>1596.412872</td>\n",
       "      <td>166441.494769</td>\n",
       "      <td>...</td>\n",
       "      <td>44.427753</td>\n",
       "      <td>-3.319597</td>\n",
       "      <td>50.206673</td>\n",
       "      <td>0.636965</td>\n",
       "      <td>37.319130</td>\n",
       "      <td>-0.619121</td>\n",
       "      <td>37.259739</td>\n",
       "      <td>-3.407448</td>\n",
       "      <td>31.949339</td>\n",
       "      <td>blues</td>\n",
       "    </tr>\n",
       "    <tr>\n",
       "      <th>4</th>\n",
       "      <td>blues.00004.wav</td>\n",
       "      <td>661794</td>\n",
       "      <td>0.308526</td>\n",
       "      <td>0.087841</td>\n",
       "      <td>0.091529</td>\n",
       "      <td>0.002303</td>\n",
       "      <td>1835.004266</td>\n",
       "      <td>343399.939274</td>\n",
       "      <td>1748.172116</td>\n",
       "      <td>88445.209036</td>\n",
       "      <td>...</td>\n",
       "      <td>86.099236</td>\n",
       "      <td>-5.454034</td>\n",
       "      <td>75.269707</td>\n",
       "      <td>-0.916874</td>\n",
       "      <td>53.613918</td>\n",
       "      <td>-4.404827</td>\n",
       "      <td>62.910812</td>\n",
       "      <td>-11.703234</td>\n",
       "      <td>55.195160</td>\n",
       "      <td>blues</td>\n",
       "    </tr>\n",
       "  </tbody>\n",
       "</table>\n",
       "<p>5 rows × 60 columns</p>\n",
       "</div>"
      ],
      "text/plain": [
       "          filename  length  chroma_stft_mean  chroma_stft_var  rms_mean  \\\n",
       "0  blues.00000.wav  661794          0.350088         0.088757  0.130228   \n",
       "1  blues.00001.wav  661794          0.340914         0.094980  0.095948   \n",
       "2  blues.00002.wav  661794          0.363637         0.085275  0.175570   \n",
       "3  blues.00003.wav  661794          0.404785         0.093999  0.141093   \n",
       "4  blues.00004.wav  661794          0.308526         0.087841  0.091529   \n",
       "\n",
       "    rms_var  spectral_centroid_mean  spectral_centroid_var  \\\n",
       "0  0.002827             1784.165850          129774.064525   \n",
       "1  0.002373             1530.176679          375850.073649   \n",
       "2  0.002746             1552.811865          156467.643368   \n",
       "3  0.006346             1070.106615          184355.942417   \n",
       "4  0.002303             1835.004266          343399.939274   \n",
       "\n",
       "   spectral_bandwidth_mean  spectral_bandwidth_var  ...  mfcc16_var  \\\n",
       "0              2002.449060            85882.761315  ...   52.420910   \n",
       "1              2039.036516           213843.755497  ...   55.356403   \n",
       "2              1747.702312            76254.192257  ...   40.598766   \n",
       "3              1596.412872           166441.494769  ...   44.427753   \n",
       "4              1748.172116            88445.209036  ...   86.099236   \n",
       "\n",
       "   mfcc17_mean  mfcc17_var  mfcc18_mean  mfcc18_var  mfcc19_mean  mfcc19_var  \\\n",
       "0    -1.690215   36.524071    -0.408979   41.597103    -2.303523   55.062923   \n",
       "1    -0.731125   60.314529     0.295073   48.120598    -0.283518   51.106190   \n",
       "2    -7.729093   47.639427    -1.816407   52.382141    -3.439720   46.639660   \n",
       "3    -3.319597   50.206673     0.636965   37.319130    -0.619121   37.259739   \n",
       "4    -5.454034   75.269707    -0.916874   53.613918    -4.404827   62.910812   \n",
       "\n",
       "   mfcc20_mean  mfcc20_var  label  \n",
       "0     1.221291   46.936035  blues  \n",
       "1     0.531217   45.786282  blues  \n",
       "2    -2.231258   30.573025  blues  \n",
       "3    -3.407448   31.949339  blues  \n",
       "4   -11.703234   55.195160  blues  \n",
       "\n",
       "[5 rows x 60 columns]"
      ]
     },
     "execution_count": 1,
     "metadata": {},
     "output_type": "execute_result"
    }
   ],
   "source": [
    "import pandas as pd\n",
    "import numpy as np\n",
    "from sklearn.preprocessing import StandardScaler\n",
    "import seaborn as sns\n",
    "\n",
    "data = pd.read_csv(\"features_30_sec.csv\")\n",
    "data.head()"
   ]
  },
  {
   "cell_type": "code",
   "execution_count": 2,
   "id": "graphic-eugene",
   "metadata": {},
   "outputs": [
    {
     "data": {
      "text/html": [
       "<div>\n",
       "<style scoped>\n",
       "    .dataframe tbody tr th:only-of-type {\n",
       "        vertical-align: middle;\n",
       "    }\n",
       "\n",
       "    .dataframe tbody tr th {\n",
       "        vertical-align: top;\n",
       "    }\n",
       "\n",
       "    .dataframe thead th {\n",
       "        text-align: right;\n",
       "    }\n",
       "</style>\n",
       "<table border=\"1\" class=\"dataframe\">\n",
       "  <thead>\n",
       "    <tr style=\"text-align: right;\">\n",
       "      <th></th>\n",
       "      <th>filename</th>\n",
       "      <th>length</th>\n",
       "      <th>chroma_stft_mean</th>\n",
       "      <th>chroma_stft_var</th>\n",
       "      <th>rms_mean</th>\n",
       "      <th>rms_var</th>\n",
       "      <th>spectral_centroid_mean</th>\n",
       "      <th>spectral_centroid_var</th>\n",
       "      <th>spectral_bandwidth_mean</th>\n",
       "      <th>spectral_bandwidth_var</th>\n",
       "      <th>...</th>\n",
       "      <th>mfcc16_var</th>\n",
       "      <th>mfcc17_mean</th>\n",
       "      <th>mfcc17_var</th>\n",
       "      <th>mfcc18_mean</th>\n",
       "      <th>mfcc18_var</th>\n",
       "      <th>mfcc19_mean</th>\n",
       "      <th>mfcc19_var</th>\n",
       "      <th>mfcc20_mean</th>\n",
       "      <th>mfcc20_var</th>\n",
       "      <th>label</th>\n",
       "    </tr>\n",
       "  </thead>\n",
       "  <tbody>\n",
       "    <tr>\n",
       "      <th>0</th>\n",
       "      <td>blues.00000.wav</td>\n",
       "      <td>661794</td>\n",
       "      <td>0.350088</td>\n",
       "      <td>0.088757</td>\n",
       "      <td>0.130228</td>\n",
       "      <td>0.002827</td>\n",
       "      <td>1784.165850</td>\n",
       "      <td>129774.064525</td>\n",
       "      <td>2002.449060</td>\n",
       "      <td>85882.761315</td>\n",
       "      <td>...</td>\n",
       "      <td>52.420910</td>\n",
       "      <td>-1.690215</td>\n",
       "      <td>36.524071</td>\n",
       "      <td>-0.408979</td>\n",
       "      <td>41.597103</td>\n",
       "      <td>-2.303523</td>\n",
       "      <td>55.062923</td>\n",
       "      <td>1.221291</td>\n",
       "      <td>46.936035</td>\n",
       "      <td>0</td>\n",
       "    </tr>\n",
       "    <tr>\n",
       "      <th>1</th>\n",
       "      <td>blues.00001.wav</td>\n",
       "      <td>661794</td>\n",
       "      <td>0.340914</td>\n",
       "      <td>0.094980</td>\n",
       "      <td>0.095948</td>\n",
       "      <td>0.002373</td>\n",
       "      <td>1530.176679</td>\n",
       "      <td>375850.073649</td>\n",
       "      <td>2039.036516</td>\n",
       "      <td>213843.755497</td>\n",
       "      <td>...</td>\n",
       "      <td>55.356403</td>\n",
       "      <td>-0.731125</td>\n",
       "      <td>60.314529</td>\n",
       "      <td>0.295073</td>\n",
       "      <td>48.120598</td>\n",
       "      <td>-0.283518</td>\n",
       "      <td>51.106190</td>\n",
       "      <td>0.531217</td>\n",
       "      <td>45.786282</td>\n",
       "      <td>0</td>\n",
       "    </tr>\n",
       "    <tr>\n",
       "      <th>2</th>\n",
       "      <td>blues.00002.wav</td>\n",
       "      <td>661794</td>\n",
       "      <td>0.363637</td>\n",
       "      <td>0.085275</td>\n",
       "      <td>0.175570</td>\n",
       "      <td>0.002746</td>\n",
       "      <td>1552.811865</td>\n",
       "      <td>156467.643368</td>\n",
       "      <td>1747.702312</td>\n",
       "      <td>76254.192257</td>\n",
       "      <td>...</td>\n",
       "      <td>40.598766</td>\n",
       "      <td>-7.729093</td>\n",
       "      <td>47.639427</td>\n",
       "      <td>-1.816407</td>\n",
       "      <td>52.382141</td>\n",
       "      <td>-3.439720</td>\n",
       "      <td>46.639660</td>\n",
       "      <td>-2.231258</td>\n",
       "      <td>30.573025</td>\n",
       "      <td>0</td>\n",
       "    </tr>\n",
       "    <tr>\n",
       "      <th>3</th>\n",
       "      <td>blues.00003.wav</td>\n",
       "      <td>661794</td>\n",
       "      <td>0.404785</td>\n",
       "      <td>0.093999</td>\n",
       "      <td>0.141093</td>\n",
       "      <td>0.006346</td>\n",
       "      <td>1070.106615</td>\n",
       "      <td>184355.942417</td>\n",
       "      <td>1596.412872</td>\n",
       "      <td>166441.494769</td>\n",
       "      <td>...</td>\n",
       "      <td>44.427753</td>\n",
       "      <td>-3.319597</td>\n",
       "      <td>50.206673</td>\n",
       "      <td>0.636965</td>\n",
       "      <td>37.319130</td>\n",
       "      <td>-0.619121</td>\n",
       "      <td>37.259739</td>\n",
       "      <td>-3.407448</td>\n",
       "      <td>31.949339</td>\n",
       "      <td>0</td>\n",
       "    </tr>\n",
       "    <tr>\n",
       "      <th>4</th>\n",
       "      <td>blues.00004.wav</td>\n",
       "      <td>661794</td>\n",
       "      <td>0.308526</td>\n",
       "      <td>0.087841</td>\n",
       "      <td>0.091529</td>\n",
       "      <td>0.002303</td>\n",
       "      <td>1835.004266</td>\n",
       "      <td>343399.939274</td>\n",
       "      <td>1748.172116</td>\n",
       "      <td>88445.209036</td>\n",
       "      <td>...</td>\n",
       "      <td>86.099236</td>\n",
       "      <td>-5.454034</td>\n",
       "      <td>75.269707</td>\n",
       "      <td>-0.916874</td>\n",
       "      <td>53.613918</td>\n",
       "      <td>-4.404827</td>\n",
       "      <td>62.910812</td>\n",
       "      <td>-11.703234</td>\n",
       "      <td>55.195160</td>\n",
       "      <td>0</td>\n",
       "    </tr>\n",
       "  </tbody>\n",
       "</table>\n",
       "<p>5 rows × 60 columns</p>\n",
       "</div>"
      ],
      "text/plain": [
       "          filename  length  chroma_stft_mean  chroma_stft_var  rms_mean  \\\n",
       "0  blues.00000.wav  661794          0.350088         0.088757  0.130228   \n",
       "1  blues.00001.wav  661794          0.340914         0.094980  0.095948   \n",
       "2  blues.00002.wav  661794          0.363637         0.085275  0.175570   \n",
       "3  blues.00003.wav  661794          0.404785         0.093999  0.141093   \n",
       "4  blues.00004.wav  661794          0.308526         0.087841  0.091529   \n",
       "\n",
       "    rms_var  spectral_centroid_mean  spectral_centroid_var  \\\n",
       "0  0.002827             1784.165850          129774.064525   \n",
       "1  0.002373             1530.176679          375850.073649   \n",
       "2  0.002746             1552.811865          156467.643368   \n",
       "3  0.006346             1070.106615          184355.942417   \n",
       "4  0.002303             1835.004266          343399.939274   \n",
       "\n",
       "   spectral_bandwidth_mean  spectral_bandwidth_var  ...  mfcc16_var  \\\n",
       "0              2002.449060            85882.761315  ...   52.420910   \n",
       "1              2039.036516           213843.755497  ...   55.356403   \n",
       "2              1747.702312            76254.192257  ...   40.598766   \n",
       "3              1596.412872           166441.494769  ...   44.427753   \n",
       "4              1748.172116            88445.209036  ...   86.099236   \n",
       "\n",
       "   mfcc17_mean  mfcc17_var  mfcc18_mean  mfcc18_var  mfcc19_mean  mfcc19_var  \\\n",
       "0    -1.690215   36.524071    -0.408979   41.597103    -2.303523   55.062923   \n",
       "1    -0.731125   60.314529     0.295073   48.120598    -0.283518   51.106190   \n",
       "2    -7.729093   47.639427    -1.816407   52.382141    -3.439720   46.639660   \n",
       "3    -3.319597   50.206673     0.636965   37.319130    -0.619121   37.259739   \n",
       "4    -5.454034   75.269707    -0.916874   53.613918    -4.404827   62.910812   \n",
       "\n",
       "   mfcc20_mean  mfcc20_var  label  \n",
       "0     1.221291   46.936035      0  \n",
       "1     0.531217   45.786282      0  \n",
       "2    -2.231258   30.573025      0  \n",
       "3    -3.407448   31.949339      0  \n",
       "4   -11.703234   55.195160      0  \n",
       "\n",
       "[5 rows x 60 columns]"
      ]
     },
     "execution_count": 2,
     "metadata": {},
     "output_type": "execute_result"
    }
   ],
   "source": [
    "genre_map = {\"blues\": 0, \"classical\": 1, \"country\": 2, \"disco\": 3, \"hiphop\": 4, \"jazz\": 5,\n",
    "             \"metal\": 6, \"pop\": 7, \"reggae\": 8, \"rock\": 9}\n",
    "data['label'] = data['label'].map(genre_map)\n",
    "data.head()"
   ]
  },
  {
   "cell_type": "code",
   "execution_count": 3,
   "id": "handy-starter",
   "metadata": {},
   "outputs": [],
   "source": [
    "from sklearn.model_selection import train_test_split\n",
    "\n",
    "y = data['label'].values\n",
    "X = data.iloc[:, 1:-1].values\n",
    "\n",
    "X_train, X_test, y_train, y_test = \\\n",
    "    train_test_split(X, y, test_size = 0.3, random_state = 0, stratify = y)"
   ]
  },
  {
   "cell_type": "code",
   "execution_count": 4,
   "id": "regular-wiring",
   "metadata": {},
   "outputs": [
    {
     "name": "stdout",
     "output_type": "stream",
     "text": [
      "Best Accuracy: 61.29%\n",
      "Best Params: {'criterion': 'entropy', 'max_depth': 15, 'random_state': 28}\n",
      "Test Accuracy: 64.333%\n"
     ]
    }
   ],
   "source": [
    "from sklearn.pipeline import make_pipeline\n",
    "from sklearn.tree import DecisionTreeClassifier\n",
    "from sklearn.model_selection import GridSearchCV\n",
    "\n",
    "\n",
    "tree = DecisionTreeClassifier()\n",
    "#1, 2, 3, 4, 5, 10, 15, 20, None\n",
    "param_grid = {\n",
    "    'max_depth': [15],\n",
    "    \"criterion\": [\"entropy\"],\n",
    "    'random_state':  [28],\n",
    "}\n",
    "gs = GridSearchCV(estimator=tree,\n",
    "                  param_grid=param_grid,\n",
    "                  scoring='accuracy',\n",
    "                  cv=10)\n",
    "\n",
    "gs.fit(X_train, y_train)\n",
    "\n",
    "print('Best Accuracy: %.2f%%' % (gs.best_score_*100))\n",
    "print('Best Params: %s' % gs.best_params_)\n",
    "print(f\"Test Accuracy: {gs.score(X_test, y_test)*100:0.3f}%\")"
   ]
  },
  {
   "cell_type": "code",
   "execution_count": 5,
   "id": "lined-appeal",
   "metadata": {},
   "outputs": [
    {
     "name": "stdout",
     "output_type": "stream",
     "text": [
      "Best Accuracy: 75.86%\n",
      "Best Params: {'criterion': 'gini', 'max_depth': 15, 'n_estimators': 252, 'oob_score': True, 'random_state': 261}\n",
      "Test Accuracy: 81.667%\n"
     ]
    }
   ],
   "source": [
    "from sklearn.ensemble import RandomForestClassifier\n",
    "\n",
    "rf = RandomForestClassifier()\n",
    "#84: 80.667%\n",
    "#171: 81.333%\n",
    "#261: 81.667%\n",
    "params = {\n",
    "    \"n_estimators\": [252],\n",
    "    \"random_state\": [261],\n",
    "    \"max_depth\": [15],\n",
    "    \"criterion\": [\"gini\"],\n",
    "    \"oob_score\": [True]\n",
    "}\n",
    "\n",
    "gs2 = GridSearchCV(estimator=rf,\n",
    "                  param_grid=params,\n",
    "                  scoring='accuracy',\n",
    "                  cv=5)\n",
    "\n",
    "gs2.fit(X_train, y_train)\n",
    "\n",
    "print('Best Accuracy: %.2f%%' % (gs2.best_score_*100))\n",
    "print('Best Params: %s' % gs2.best_params_)\n",
    "print(f\"Test Accuracy: {gs2.score(X_test, y_test)*100:0.3f}%\")"
   ]
  },
  {
   "cell_type": "code",
   "execution_count": 6,
   "id": "neural-leeds",
   "metadata": {},
   "outputs": [
    {
     "name": "stdout",
     "output_type": "stream",
     "text": [
      "Test Accuracy: 81.333%\n"
     ]
    }
   ],
   "source": [
    "forest = RandomForestClassifier(n_estimators=252, random_state=171, max_depth=15, criterion=\"gini\")\n",
    "forest.fit(X_train, y_train)\n",
    "print(f\"Test Accuracy: {forest.score(X_test, y_test)*100:0.3f}%\")"
   ]
  },
  {
   "cell_type": "code",
   "execution_count": 7,
   "id": "vital-salad",
   "metadata": {},
   "outputs": [
    {
     "data": {
      "text/plain": [
       "array([0.03781445, 0.04188093, 0.02875554, 0.02558106, 0.03097329,\n",
       "       0.01920131, 0.02453142, 0.02471368, 0.01255682, 0.02329016,\n",
       "       0.02193438, 0.01811777, 0.01732598, 0.01399005, 0.02373727,\n",
       "       0.01544429, 0.04438257, 0.00851204, 0.02788348, 0.01735062,\n",
       "       0.01479707, 0.0099435 , 0.01348194, 0.01486209, 0.029429  ,\n",
       "       0.01767241, 0.01313447, 0.02129293, 0.01888644, 0.01486987,\n",
       "       0.01453518, 0.0156602 , 0.01670356, 0.01364016, 0.01993072,\n",
       "       0.01135942, 0.01198043, 0.01626784, 0.01361949, 0.01097835,\n",
       "       0.02018987, 0.00954041, 0.01353429, 0.01067268, 0.01048249,\n",
       "       0.00903863, 0.01040428, 0.00861303, 0.00992978, 0.01040656,\n",
       "       0.01445577, 0.00897496, 0.01023024, 0.01215905, 0.01045364,\n",
       "       0.01156937, 0.01107031, 0.0172525 ])"
      ]
     },
     "execution_count": 7,
     "metadata": {},
     "output_type": "execute_result"
    }
   ],
   "source": [
    "importances = forest.feature_importances_\n",
    "sorted_imp = np.argsort(importances)[::-1]\n",
    "sorted_imp\n",
    "importances"
   ]
  },
  {
   "cell_type": "code",
   "execution_count": 8,
   "id": "standing-moderator",
   "metadata": {},
   "outputs": [
    {
     "data": {
      "text/plain": [
       "Index(['length', 'chroma_stft_mean', 'chroma_stft_var', 'rms_mean', 'rms_var',\n",
       "       'spectral_centroid_mean', 'spectral_centroid_var',\n",
       "       'spectral_bandwidth_mean', 'spectral_bandwidth_var', 'rolloff_mean',\n",
       "       'rolloff_var', 'zero_crossing_rate_mean', 'zero_crossing_rate_var',\n",
       "       'harmony_mean', 'harmony_var', 'perceptr_mean', 'perceptr_var', 'tempo',\n",
       "       'mfcc1_mean', 'mfcc1_var', 'mfcc2_mean', 'mfcc2_var', 'mfcc3_mean',\n",
       "       'mfcc3_var', 'mfcc4_mean', 'mfcc4_var', 'mfcc5_mean', 'mfcc5_var',\n",
       "       'mfcc6_mean', 'mfcc6_var', 'mfcc7_mean', 'mfcc7_var', 'mfcc8_mean',\n",
       "       'mfcc8_var', 'mfcc9_mean', 'mfcc9_var', 'mfcc10_mean', 'mfcc10_var',\n",
       "       'mfcc11_mean', 'mfcc11_var', 'mfcc12_mean', 'mfcc12_var', 'mfcc13_mean',\n",
       "       'mfcc13_var', 'mfcc14_mean', 'mfcc14_var', 'mfcc15_mean', 'mfcc15_var',\n",
       "       'mfcc16_mean', 'mfcc16_var', 'mfcc17_mean', 'mfcc17_var', 'mfcc18_mean',\n",
       "       'mfcc18_var', 'mfcc19_mean', 'mfcc19_var', 'mfcc20_mean', 'mfcc20_var'],\n",
       "      dtype='object')"
      ]
     },
     "execution_count": 8,
     "metadata": {},
     "output_type": "execute_result"
    }
   ],
   "source": [
    "data.columns[1:-1]"
   ]
  },
  {
   "cell_type": "code",
   "execution_count": 9,
   "id": "impossible-massage",
   "metadata": {},
   "outputs": [],
   "source": [
    "col_ranks = []\n",
    "\n",
    "for i in range(0, 58):\n",
    "    col = []\n",
    "    col.append(importances[i])\n",
    "    col.append(data.columns[1:-1][i])\n",
    "    col_ranks.append(col)\n",
    "col_ranks = sorted(col_ranks, key=lambda x: x[0])\n",
    "\n",
    "new_order = []\n",
    "new_imp = []\n",
    "for ls in col_ranks:\n",
    "    new_imp.append(ls[0])\n",
    "    new_order.append(ls[1])"
   ]
  },
  {
   "cell_type": "code",
   "execution_count": 10,
   "id": "living-target",
   "metadata": {},
   "outputs": [
    {
     "data": {
      "image/png": "[encoded data removed]",
      "text/plain": [
       "<Figure size 432x288 with 1 Axes>"
      ]
     },
     "metadata": {
      "needs_background": "light"
     },
     "output_type": "display_data"
    }
   ],
   "source": [
    "import matplotlib.pyplot as plt\n",
    "fig = plt.figure()\n",
    "ax = fig.add_axes([0,0,1,1])\n",
    "\n",
    "ax.bar(new_order,new_imp)\n",
    "plt.xticks(rotation=0)\n",
    "plt.show()"
   ]
  },
  {
   "cell_type": "code",
   "execution_count": 11,
   "id": "fuzzy-calvin",
   "metadata": {},
   "outputs": [],
   "source": [
    "data3 = pd.read_csv(\"features_3_sec.csv\")\n",
    "\n",
    "genre_map = {\"blues\": 0, \"classical\": 1, \"country\": 2, \"disco\": 3, \"hiphop\": 4, \"jazz\": 5,\n",
    "             \"metal\": 6, \"pop\": 7, \"reggae\": 8, \"rock\": 9}\n",
    "data3['label'] = data3['label'].map(genre_map)\n",
    "data3.head()\n",
    "\n",
    "y3 = data3['label'].values\n",
    "X3 = data3.iloc[:, 1:-1].values\n",
    "\n",
    "from sklearn.preprocessing import MinMaxScaler\n",
    "\n",
    "scaler = StandardScaler()\n",
    "\n",
    "minmax = MinMaxScaler()\n",
    "model=minmax.fit(X3)\n",
    "minmax=model.transform(X3)\n",
    "\n",
    "X3_train, X3_test, y3_train, y3_test = \\\n",
    "    train_test_split(X3, y3, test_size = 0.3, random_state = 0, stratify = y3)\n",
    "\n",
    "sX3_train = scaler.fit_transform(X3_train)\n",
    "sX3_test = scaler.fit_transform(X3_test)"
   ]
  },
  {
   "cell_type": "code",
   "execution_count": 12,
   "id": "specialized-orientation",
   "metadata": {},
   "outputs": [
    {
     "name": "stdout",
     "output_type": "stream",
     "text": [
      "227.87540483474731\n",
      "Best Accuracy: 85.16%\n",
      "Best Params: {'criterion': 'gini', 'max_depth': 20, 'n_estimators': 380, 'oob_score': True, 'random_state': 261, 'warm_start': True}\n",
      "Test Accuracy: 87.287%\n"
     ]
    }
   ],
   "source": [
    "from sklearn.ensemble import RandomForestClassifier\n",
    "import time\n",
    "\n",
    "t1 = time.time()\n",
    "rf3 = RandomForestClassifier()\n",
    "\n",
    "params = {\n",
    "    \"n_estimators\": [380],\n",
    "    \"random_state\": [261],\n",
    "    \"max_depth\": [20],\n",
    "    \"criterion\": [\"gini\"],\n",
    "    \"oob_score\": [True],\n",
    "    \"warm_start\": [True, False]\n",
    "}\n",
    "\n",
    "gs3 = GridSearchCV(estimator=rf,\n",
    "                  param_grid=params,\n",
    "                  scoring='accuracy',\n",
    "                  cv=5)\n",
    "\n",
    "gs3.fit(X3_train, y3_train)\n",
    "\n",
    "print(str(time.time() - t1))\n",
    "print('Best Accuracy: %.2f%%' % (gs3.best_score_*100))\n",
    "print('Best Params: %s' % gs3.best_params_)\n",
    "print(f\"Test Accuracy: {gs3.score(X3_test, y3_test)*100:0.3f}%\")"
   ]
  },
  {
   "cell_type": "code",
   "execution_count": 13,
   "id": "desirable-cycling",
   "metadata": {},
   "outputs": [
    {
     "name": "stdout",
     "output_type": "stream",
     "text": [
      "Test Accuracy: 86.553%\n",
      "22.75753617286682 57\n"
     ]
    }
   ],
   "source": [
    "#2: 94.333%\n",
    "#for i in range(26, 31):\n",
    "t1 = time.time()\n",
    "forest3 = RandomForestClassifier(n_estimators=380, random_state=261, max_depth=20, criterion=\"gini\", oob_score=True, warm_start=True)\n",
    "forest3.fit(sX3_train, y3_train)\n",
    "print(f\"Test Accuracy: {forest3.score(sX3_test, y3_test)*100:0.3f}%\")\n",
    "print(str(time.time()-t1), str(i))"
   ]
  },
  {
   "cell_type": "code",
   "execution_count": 14,
   "id": "inclusive-essay",
   "metadata": {},
   "outputs": [
    {
     "data": {
      "text/plain": [
       "array([0.        , 0.03478034, 0.01881505, 0.03208427, 0.03591123,\n",
       "       0.02245804, 0.02093346, 0.03272173, 0.01368996, 0.02450623,\n",
       "       0.0229388 , 0.02047299, 0.01134118, 0.02041489, 0.02602223,\n",
       "       0.02632342, 0.05047497, 0.01066208, 0.02687041, 0.02311584,\n",
       "       0.01805299, 0.01059822, 0.01922725, 0.01732721, 0.03241651,\n",
       "       0.01663767, 0.01492047, 0.01934044, 0.0213822 , 0.01563797,\n",
       "       0.01609249, 0.01362654, 0.01912836, 0.01233947, 0.02239698,\n",
       "       0.01028137, 0.01260541, 0.0117353 , 0.01676169, 0.00930907,\n",
       "       0.01786355, 0.0089838 , 0.01613501, 0.00889375, 0.01189836,\n",
       "       0.00831342, 0.01301923, 0.00775935, 0.01061296, 0.00817116,\n",
       "       0.01426614, 0.00797897, 0.01056303, 0.0091038 , 0.00981128,\n",
       "       0.01061915, 0.0105936 , 0.01105871])"
      ]
     },
     "execution_count": 14,
     "metadata": {},
     "output_type": "execute_result"
    }
   ],
   "source": [
    "importances3 = forest3.feature_importances_\n",
    "sorted_imp3 = np.argsort(importances3)[::-1]\n",
    "sorted_imp\n",
    "importances3\n",
    "\n",
    "data.columns[1:-1]\n",
    "importances3"
   ]
  },
  {
   "cell_type": "code",
   "execution_count": 15,
   "id": "intensive-upgrade",
   "metadata": {},
   "outputs": [],
   "source": [
    "col_ranks3 = []\n",
    "\n",
    "for i in range(0, 58):\n",
    "    col = []\n",
    "    col.append(importances[i])\n",
    "    col.append(data.columns[1:-1][i])\n",
    "    col_ranks3.append(col)\n",
    "col_ranks3 = sorted(col_ranks, key=lambda x: x[0])\n",
    "\n",
    "new_order3 = []\n",
    "new_imp3 = []\n",
    "for ls in col_ranks3:\n",
    "    new_imp3.append(ls[0])\n",
    "    new_order3.append(ls[1])"
   ]
  },
  {
   "cell_type": "code",
   "execution_count": 16,
   "id": "specified-saver",
   "metadata": {},
   "outputs": [
    {
     "data": {
      "text/plain": [
       "['mfcc4_mean', 'rms_var', 'length', 'chroma_stft_mean', 'perceptr_var']"
      ]
     },
     "execution_count": 16,
     "metadata": {},
     "output_type": "execute_result"
    }
   ],
   "source": [
    "top_order = new_order3[53:58]\n",
    "top_order"
   ]
  },
  {
   "cell_type": "code",
   "execution_count": 17,
   "id": "executed-ticket",
   "metadata": {
    "scrolled": true
   },
   "outputs": [
    {
     "data": {
      "image/png": "[encoded data removed]",
      "text/plain": [
       "<Figure size 576x288 with 1 Axes>"
      ]
     },
     "metadata": {
      "needs_background": "light"
     },
     "output_type": "display_data"
    }
   ],
   "source": [
    "f, ax = plt.subplots(figsize=(8, 4))\n",
    "\n",
    "ax.barh(new_order3[48:58],new_imp3[48:58])\n",
    "plt.title(\"Top 10 Importance features \")\n",
    "plt.xticks(rotation=0)\n",
    "plt.show()"
   ]
  },
  {
   "cell_type": "code",
   "execution_count": 18,
   "id": "stuffed-advocate",
   "metadata": {},
   "outputs": [
    {
     "data": {
      "text/plain": [
       "Text(0, 0.5, 'Accuracy')"
      ]
     },
     "execution_count": 18,
     "metadata": {},
     "output_type": "execute_result"
    },
    {
     "data": {
      "image/png": "[encoded data removed]",
      "text/plain": [
       "<Figure size 720x720 with 1 Axes>"
      ]
     },
     "metadata": {
      "needs_background": "light"
     },
     "output_type": "display_data"
    }
   ],
   "source": [
    "f, ax = plt.subplots(figsize=(10, 10));\n",
    "sns.set_color_codes(\"pastel\")\n",
    "sns.set_color_codes(\"muted\")\n",
    "sns.barplot(x=new_imp3, y=new_order3, color=\"b\", orient='h')\n",
    "sns.despine(left=True, bottom=True)\n",
    "\n",
    "plt.xlabel(\"Genre\")\n",
    "plt.ylabel(\"Accuracy\")"
   ]
  },
  {
   "cell_type": "code",
   "execution_count": 20,
   "id": "quick-internship",
   "metadata": {},
   "outputs": [
    {
     "data": {
      "text/plain": [
       "Text(0, 0.5, 'Mean decrease in impurity')"
      ]
     },
     "execution_count": 20,
     "metadata": {},
     "output_type": "execute_result"
    },
    {
     "data": {
      "image/png": "[encoded data removed]",
      "text/plain": [
       "<Figure size 432x288 with 1 Axes>"
      ]
     },
     "metadata": {
      "needs_background": "light"
     },
     "output_type": "display_data"
    }
   ],
   "source": [
    "std = np.std([tree.feature_importances_ for tree in forest3.estimators_], axis=0)\n",
    "\n",
    "forest_importances = pd.Series(importances3, index=data.columns[1:-1])\n",
    "\n",
    "fig, ax = plt.subplots()\n",
    "forest_importances.plot.bar(yerr=std, ax=ax)\n",
    "ax.set_title(\"Feature importances using MDI\")\n",
    "ax.set_ylabel(\"Mean decrease in impurity\")"
   ]
  },
  {
   "cell_type": "code",
   "execution_count": 22,
   "id": "timely-woman",
   "metadata": {},
   "outputs": [
    {
     "name": "stdout",
     "output_type": "stream",
     "text": [
      "Mean Absolute Error: 3.5285285285285286\n",
      "Mean Squared Error: 19.08808808808809\n",
      "Root Mean Squared Error: 4.368991655758579\n"
     ]
    }
   ],
   "source": [
    "from sklearn import metrics\n",
    "\n",
    "y_pred = forest3.predict(X3_test)\n",
    "\n",
    "print('Mean Absolute Error:', metrics.mean_absolute_error(y3_test, y_pred))\n",
    "print('Mean Squared Error:', metrics.mean_squared_error(y3_test, y_pred))\n",
    "print('Root Mean Squared Error:', np.sqrt(metrics.mean_squared_error(y3_test, y_pred)))"
   ]
  },
  {
   "cell_type": "code",
   "execution_count": null,
   "id": "ambient-binding",
   "metadata": {},
   "outputs": [],
   "source": [
    "mod_data = data3\n",
    "\n",
    "col_ranks3\n",
    "low_importance = []\n",
    "high_importance = []\n",
    "for ls in col_ranks3:\n",
    "    if ls[0] < 0.01:\n",
    "        low_importance.append(ls[1])\n",
    "        continue\n",
    "    high_importance.append(ls[1])\n",
    "        \n",
    "low_importance\n",
    "\n",
    "\n",
    "for col in mod_data.columns:\n",
    "    if col in low_importance:\n",
    "        del mod_data[col]\n",
    "        \n",
    "\n",
    "mod_y = mod_data['label'].values\n",
    "mod_X = mod_data.iloc[:, 1:-1].values\n",
    "\n",
    "modX_train, modX_test, mody_train, mody_test = \\\n",
    "    train_test_split(X, y, test_size = 0.3, random_state = 0, stratify = y)"
   ]
  },
  {
   "cell_type": "code",
   "execution_count": null,
   "id": "affiliated-bahamas",
   "metadata": {},
   "outputs": [],
   "source": [
    "forest3 = RandomForestClassifier(n_estimators=412, random_state=2, max_depth=20, criterion=\"gini\", oob_score=True)\n",
    "forest3.fit(modX_train, mody_train)\n",
    "print(f\"Test Accuracy: {forest3.score(X_test, y_test)*100:0.3f}%\")"
   ]
  },
  {
   "cell_type": "code",
   "execution_count": null,
   "id": "tracked-scottish",
   "metadata": {
    "scrolled": true
   },
   "outputs": [],
   "source": [
    "from collections import Counter\n",
    "genre_accuracy = {0:0, 1:0, 2:0, 3:0, 4:0, 5:0, 6:0, 7:0, 8:0, 9:0}\n",
    "errors = []\n",
    "i = 0 \n",
    "for i in range(len(y3_pred)):\n",
    "    if y3_test[i] != y3_pred[i]:\n",
    "        error = []\n",
    "        error.append(y3_pred[i])\n",
    "        error.append(y3_test[i])\n",
    "        errors.append(error)\n",
    "errors\n",
    "print(errors)\n",
    "pred = Counter()\n",
    "Counter((y_pred))\n",
    "\n",
    "hundred = Counter(y3_test)\n",
    "errors\n",
    "\n",
    "for e in errors:\n",
    "    hundred[e[1]] -= 1\n",
    "hundred\n",
    "\n",
    "acc = {}\n",
    "for g in range(len(list(set(data[\"label\"].values)))):\n",
    "    acc[list(set(data[\"label\"].values))[g]] = round(hundred[g] / 30, 4) * 10\n",
    "acc=dict(sorted(acc.items(),key= lambda x:x[1]))\n",
    "acc"
   ]
  },
  {
   "cell_type": "code",
   "execution_count": null,
   "id": "fifth-client",
   "metadata": {
    "scrolled": true
   },
   "outputs": [],
   "source": [
    "import seaborn as sns\n",
    "\n",
    "genres = list(acc.keys())\n",
    "values = list(acc.values())\n",
    "\n",
    "f, ax = plt.subplots(figsize=(12, 6));\n",
    "sns.barplot(x=genres, y=values, palette = 'cubehelix')\n",
    "\n",
    "plt.xlabel(\"Genre\")\n",
    "plt.ylabel(\"Accuracy\")\n",
    "\n"
   ]
  },
  {
   "cell_type": "code",
   "execution_count": null,
   "id": "fifty-poland",
   "metadata": {},
   "outputs": [],
   "source": []
  },
  {
   "cell_type": "code",
   "execution_count": null,
   "id": "nuclear-comparative",
   "metadata": {},
   "outputs": [],
   "source": [
    "from mlxtend.evaluate import confusion_matrix\n",
    "from mlxtend.plotting import plot_confusion_matrix\n",
    "\n",
    "confmat = confusion_matrix(y3_test, y3_pred)\n",
    "\n",
    "fig, ax = plot_confusion_matrix(conf_mat=confmat, show_absolute=True, show_normed=True, figsize=(8,8))\n",
    "plt.show()"
   ]
  },
  {
   "cell_type": "code",
   "execution_count": null,
   "id": "clear-synthetic",
   "metadata": {},
   "outputs": [],
   "source": [
    "acc"
   ]
  },
  {
   "cell_type": "code",
   "execution_count": null,
   "id": "lined-timeline",
   "metadata": {},
   "outputs": [],
   "source": [
    "from xgboost import XGBClassifier\n",
    "from sklearn.metrics import accuracy_score\n",
    "\n",
    "t1 = time.time()\n",
    "xgb = XGBClassifier(n_estimators = 1000, learning_rate = 0.05, use_label_encoder = False)\n",
    "xgb.fit(X3_train, y3_train)\n",
    "\n",
    "xgb_pred = xgb.predict(X3_test)\n",
    "print(str(time.time()-t1), str(i))\n",
    "print(\"Accuracy: \" + str(round(accuracy_score(y3_test, xgb_pred), 5)))"
   ]
  },
  {
   "cell_type": "code",
   "execution_count": null,
   "id": "featured-seating",
   "metadata": {},
   "outputs": [],
   "source": [
    "x = XGBClassifier()\n",
    "\n",
    "params = {\n",
    "    \"n_estimators\": [380],\n",
    "    \"random_state\": [261],\n",
    "    \"max_depth\": [20],\n",
    "    \"criterion\": [\"gini\"],\n",
    "    \"oob_score\": [True]\n",
    "}\n",
    "\n",
    "gs3 = GridSearchCV(estimator=rf,\n",
    "                  param_grid=params,\n",
    "                  scoring='accuracy',\n",
    "                  cv=2)\n",
    "range(0[, 6e-2)"
   ]
  },
  {
   "cell_type": "code",
   "execution_count": null,
   "id": "quarterly-carter",
   "metadata": {},
   "outputs": [],
   "source": [
    "from xgboost import XGBClassifier\n",
    "from sklearn.model_selection import StratifiedKFold\n",
    "import numpy as np\n",
    "import optuna\n",
    "\n",
    "\n",
    "def optimization_objective(trial, X_train, y_train, cv=5):\n",
    "\n",
    "    \n",
    "    params =  {\n",
    "            \"n_estimators\": trial.suggest_categorical(\"n_estimators\", [1000]),\n",
    "            \"learning_rate\": trial.suggest_categorical(\"learning_rate\", [0.01, 0.03, 0.05]),\n",
    "            \"lambda\": trial.suggest_loguniform(\"lambda\", 1e-8, 1.0),\n",
    "            \"alpha\": trial.suggest_loguniform(\"alpha\", 1e-8, 1.0),\n",
    "    }\n",
    "    \n",
    "\n",
    "    cv_iterator = StratifiedKFold(n_splits=cv, shuffle=True, random_state=123)\n",
    "\n",
    "    cv_scores = np.zeros(cv)\n",
    "    for idx, (train_sub_idx, valid_idx) in enumerate(cv_iterator.split(X_train, y_train)):\n",
    "        \n",
    "        X_train_sub, X_valid = X_train[train_sub_idx], X_train[valid_idx]\n",
    "        y_train_sub, y_valid = y_train[train_sub_idx], y_train[valid_idx]\n",
    "        \n",
    "\n",
    "        model = XGBClassifier(**params, random_state=123, use_label_encoder=False, tree_method = \"hist\")\n",
    "        \n",
    "        model.fit(\n",
    "            X_train_sub,\n",
    "            y_train_sub,\n",
    "            verbose=False,\n",
    "            eval_set=[(X_valid, y_valid)],\n",
    "            eval_metric=\"auc\",\n",
    "            early_stopping_rounds=100,\n",
    "        )\n",
    "        \n",
    "        preds = model.score(X_valid, y_valid)\n",
    "        \n",
    "        cv_scores[idx] = preds\n",
    "\n",
    "    return np.mean(cv_scores)"
   ]
  },
  {
   "cell_type": "code",
   "execution_count": null,
   "id": "damaged-fusion",
   "metadata": {},
   "outputs": [],
   "source": [
    "study = optuna.create_study(direction=\"maximize\", study_name=\"XGBoost Classifier\")\n",
    "\n",
    "def func(trial):\n",
    "    return optimization_objective(trial, X3_train, y3_train)\n",
    "\n",
    "study.optimize(func, n_trials = 10);"
   ]
  }
 ],
 "metadata": {
  "kernelspec": {
   "display_name": "Python 3",
   "language": "python",
   "name": "python3"
  },
  "language_info": {
   "codemirror_mode": {
    "name": "ipython",
    "version": 3
   },
   "file_extension": ".py",
   "mimetype": "text/x-python",
   "name": "python",
   "nbconvert_exporter": "python",
   "pygments_lexer": "ipython3",
   "version": "3.9.9"
  }
 },
 "nbformat": 4,
 "nbformat_minor": 5
}
