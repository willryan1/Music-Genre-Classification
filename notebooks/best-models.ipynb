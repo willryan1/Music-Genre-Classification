{
 "cells": [
  {
   "cell_type": "markdown",
   "id": "f031caf5-3f49-4178-9c85-adde25fad94c",
   "metadata": {},
   "source": [
    "# Final Model Tuning and Accuracy\n",
    "\n",
    "STAT 451: Machine Learning (Fall 2021)  \n",
    "Instructor: Sebastian Raschka (sraschka@wisc.edu)   \n",
    "\n",
    "---\n",
    "\n",
    "This notebook is used to display tuning and model selection"
   ]
  },
  {
   "cell_type": "code",
   "execution_count": 177,
   "id": "c9fe18df-6be6-4c6a-b098-fa2c517c6e06",
   "metadata": {},
   "outputs": [
    {
     "name": "stdout",
     "output_type": "stream",
     "text": [
      "The watermark extension is already loaded. To reload it, use:\n",
      "  %reload_ext watermark\n",
      "Author: William Ryan\n",
      "\n",
      "Last updated: 2021-12-06\n",
      "\n",
      "Python implementation: CPython\n",
      "Python version       : 3.9.7\n",
      "IPython version      : 7.28.0\n",
      "\n",
      "numpy     : 1.20.3\n",
      "scipy     : 1.7.1\n",
      "matplotlib: 3.4.3\n",
      "sklearn   : 1.0\n",
      "pandas    : 1.3.3\n",
      "mlxtend   : 0.19.0\n",
      "\n"
     ]
    }
   ],
   "source": [
    "%load_ext watermark\n",
    "%watermark  -d -u -a 'William Ryan' -v -p numpy,scipy,matplotlib,sklearn,pandas,mlxtend"
   ]
  },
  {
   "cell_type": "code",
   "execution_count": 148,
   "id": "f3598ed9-bf7c-4074-8b60-25bd974de05f",
   "metadata": {},
   "outputs": [],
   "source": [
    "import pandas as pd\n",
    "import numpy as np\n",
    "from sklearn.preprocessing import StandardScaler\n",
    "\n",
    "from sklearn.pipeline import make_pipeline\n",
    "from sklearn.tree import DecisionTreeClassifier\n",
    "from sklearn.model_selection import GridSearchCV\n",
    "from sklearn.model_selection import train_test_split\n",
    "from sklearn.model_selection import cross_val_score\n",
    "from sklearn.metrics import accuracy_score\n",
    "from sklearn.metrics.cluster import contingency_matrix\n",
    "from sklearn.metrics import f1_score\n",
    "from sklearn.metrics import roc_auc_score\n",
    "from sklearn.metrics import precision_score\n",
    "\n",
    "from mlxtend.evaluate import bootstrap_point632_score\n",
    "from mlxtend.evaluate import mcnemar"
   ]
  },
  {
   "cell_type": "code",
   "execution_count": 2,
   "id": "ad39935d-17da-4846-a8c2-6c72456d1a37",
   "metadata": {},
   "outputs": [
    {
     "data": {
      "text/html": [
       "<div>\n",
       "<style scoped>\n",
       "    .dataframe tbody tr th:only-of-type {\n",
       "        vertical-align: middle;\n",
       "    }\n",
       "\n",
       "    .dataframe tbody tr th {\n",
       "        vertical-align: top;\n",
       "    }\n",
       "\n",
       "    .dataframe thead th {\n",
       "        text-align: right;\n",
       "    }\n",
       "</style>\n",
       "<table border=\"1\" class=\"dataframe\">\n",
       "  <thead>\n",
       "    <tr style=\"text-align: right;\">\n",
       "      <th></th>\n",
       "      <th>filename</th>\n",
       "      <th>length</th>\n",
       "      <th>chroma_stft_mean</th>\n",
       "      <th>chroma_stft_var</th>\n",
       "      <th>rms_mean</th>\n",
       "      <th>rms_var</th>\n",
       "      <th>spectral_centroid_mean</th>\n",
       "      <th>spectral_centroid_var</th>\n",
       "      <th>spectral_bandwidth_mean</th>\n",
       "      <th>spectral_bandwidth_var</th>\n",
       "      <th>...</th>\n",
       "      <th>mfcc16_var</th>\n",
       "      <th>mfcc17_mean</th>\n",
       "      <th>mfcc17_var</th>\n",
       "      <th>mfcc18_mean</th>\n",
       "      <th>mfcc18_var</th>\n",
       "      <th>mfcc19_mean</th>\n",
       "      <th>mfcc19_var</th>\n",
       "      <th>mfcc20_mean</th>\n",
       "      <th>mfcc20_var</th>\n",
       "      <th>label</th>\n",
       "    </tr>\n",
       "  </thead>\n",
       "  <tbody>\n",
       "    <tr>\n",
       "      <th>0</th>\n",
       "      <td>blues.00000.0.wav</td>\n",
       "      <td>66149</td>\n",
       "      <td>0.335406</td>\n",
       "      <td>0.091048</td>\n",
       "      <td>0.130405</td>\n",
       "      <td>0.003521</td>\n",
       "      <td>1773.065032</td>\n",
       "      <td>167541.630869</td>\n",
       "      <td>1972.744388</td>\n",
       "      <td>117335.771563</td>\n",
       "      <td>...</td>\n",
       "      <td>39.687145</td>\n",
       "      <td>-3.241280</td>\n",
       "      <td>36.488243</td>\n",
       "      <td>0.722209</td>\n",
       "      <td>38.099152</td>\n",
       "      <td>-5.050335</td>\n",
       "      <td>33.618073</td>\n",
       "      <td>-0.243027</td>\n",
       "      <td>43.771767</td>\n",
       "      <td>blues</td>\n",
       "    </tr>\n",
       "    <tr>\n",
       "      <th>1</th>\n",
       "      <td>blues.00000.1.wav</td>\n",
       "      <td>66149</td>\n",
       "      <td>0.343065</td>\n",
       "      <td>0.086147</td>\n",
       "      <td>0.112699</td>\n",
       "      <td>0.001450</td>\n",
       "      <td>1816.693777</td>\n",
       "      <td>90525.690866</td>\n",
       "      <td>2010.051501</td>\n",
       "      <td>65671.875673</td>\n",
       "      <td>...</td>\n",
       "      <td>64.748276</td>\n",
       "      <td>-6.055294</td>\n",
       "      <td>40.677654</td>\n",
       "      <td>0.159015</td>\n",
       "      <td>51.264091</td>\n",
       "      <td>-2.837699</td>\n",
       "      <td>97.030830</td>\n",
       "      <td>5.784063</td>\n",
       "      <td>59.943081</td>\n",
       "      <td>blues</td>\n",
       "    </tr>\n",
       "    <tr>\n",
       "      <th>2</th>\n",
       "      <td>blues.00000.2.wav</td>\n",
       "      <td>66149</td>\n",
       "      <td>0.346815</td>\n",
       "      <td>0.092243</td>\n",
       "      <td>0.132003</td>\n",
       "      <td>0.004620</td>\n",
       "      <td>1788.539719</td>\n",
       "      <td>111407.437613</td>\n",
       "      <td>2084.565132</td>\n",
       "      <td>75124.921716</td>\n",
       "      <td>...</td>\n",
       "      <td>67.336563</td>\n",
       "      <td>-1.768610</td>\n",
       "      <td>28.348579</td>\n",
       "      <td>2.378768</td>\n",
       "      <td>45.717648</td>\n",
       "      <td>-1.938424</td>\n",
       "      <td>53.050835</td>\n",
       "      <td>2.517375</td>\n",
       "      <td>33.105122</td>\n",
       "      <td>blues</td>\n",
       "    </tr>\n",
       "    <tr>\n",
       "      <th>3</th>\n",
       "      <td>blues.00000.3.wav</td>\n",
       "      <td>66149</td>\n",
       "      <td>0.363639</td>\n",
       "      <td>0.086856</td>\n",
       "      <td>0.132565</td>\n",
       "      <td>0.002448</td>\n",
       "      <td>1655.289045</td>\n",
       "      <td>111952.284517</td>\n",
       "      <td>1960.039988</td>\n",
       "      <td>82913.639269</td>\n",
       "      <td>...</td>\n",
       "      <td>47.739452</td>\n",
       "      <td>-3.841155</td>\n",
       "      <td>28.337118</td>\n",
       "      <td>1.218588</td>\n",
       "      <td>34.770935</td>\n",
       "      <td>-3.580352</td>\n",
       "      <td>50.836224</td>\n",
       "      <td>3.630866</td>\n",
       "      <td>32.023678</td>\n",
       "      <td>blues</td>\n",
       "    </tr>\n",
       "    <tr>\n",
       "      <th>4</th>\n",
       "      <td>blues.00000.4.wav</td>\n",
       "      <td>66149</td>\n",
       "      <td>0.335579</td>\n",
       "      <td>0.088129</td>\n",
       "      <td>0.143289</td>\n",
       "      <td>0.001701</td>\n",
       "      <td>1630.656199</td>\n",
       "      <td>79667.267654</td>\n",
       "      <td>1948.503884</td>\n",
       "      <td>60204.020268</td>\n",
       "      <td>...</td>\n",
       "      <td>30.336359</td>\n",
       "      <td>0.664582</td>\n",
       "      <td>45.880913</td>\n",
       "      <td>1.689446</td>\n",
       "      <td>51.363583</td>\n",
       "      <td>-3.392489</td>\n",
       "      <td>26.738789</td>\n",
       "      <td>0.536961</td>\n",
       "      <td>29.146694</td>\n",
       "      <td>blues</td>\n",
       "    </tr>\n",
       "  </tbody>\n",
       "</table>\n",
       "<p>5 rows × 60 columns</p>\n",
       "</div>"
      ],
      "text/plain": [
       "            filename  length  chroma_stft_mean  chroma_stft_var  rms_mean  \\\n",
       "0  blues.00000.0.wav   66149          0.335406         0.091048  0.130405   \n",
       "1  blues.00000.1.wav   66149          0.343065         0.086147  0.112699   \n",
       "2  blues.00000.2.wav   66149          0.346815         0.092243  0.132003   \n",
       "3  blues.00000.3.wav   66149          0.363639         0.086856  0.132565   \n",
       "4  blues.00000.4.wav   66149          0.335579         0.088129  0.143289   \n",
       "\n",
       "    rms_var  spectral_centroid_mean  spectral_centroid_var  \\\n",
       "0  0.003521             1773.065032          167541.630869   \n",
       "1  0.001450             1816.693777           90525.690866   \n",
       "2  0.004620             1788.539719          111407.437613   \n",
       "3  0.002448             1655.289045          111952.284517   \n",
       "4  0.001701             1630.656199           79667.267654   \n",
       "\n",
       "   spectral_bandwidth_mean  spectral_bandwidth_var  ...  mfcc16_var  \\\n",
       "0              1972.744388           117335.771563  ...   39.687145   \n",
       "1              2010.051501            65671.875673  ...   64.748276   \n",
       "2              2084.565132            75124.921716  ...   67.336563   \n",
       "3              1960.039988            82913.639269  ...   47.739452   \n",
       "4              1948.503884            60204.020268  ...   30.336359   \n",
       "\n",
       "   mfcc17_mean  mfcc17_var  mfcc18_mean  mfcc18_var  mfcc19_mean  mfcc19_var  \\\n",
       "0    -3.241280   36.488243     0.722209   38.099152    -5.050335   33.618073   \n",
       "1    -6.055294   40.677654     0.159015   51.264091    -2.837699   97.030830   \n",
       "2    -1.768610   28.348579     2.378768   45.717648    -1.938424   53.050835   \n",
       "3    -3.841155   28.337118     1.218588   34.770935    -3.580352   50.836224   \n",
       "4     0.664582   45.880913     1.689446   51.363583    -3.392489   26.738789   \n",
       "\n",
       "   mfcc20_mean  mfcc20_var  label  \n",
       "0    -0.243027   43.771767  blues  \n",
       "1     5.784063   59.943081  blues  \n",
       "2     2.517375   33.105122  blues  \n",
       "3     3.630866   32.023678  blues  \n",
       "4     0.536961   29.146694  blues  \n",
       "\n",
       "[5 rows x 60 columns]"
      ]
     },
     "execution_count": 2,
     "metadata": {},
     "output_type": "execute_result"
    }
   ],
   "source": [
    "data_path = '../data/Data/features_3_sec.csv'\n",
    "df = pd.read_csv(data_path)\n",
    "df.head()"
   ]
  },
  {
   "cell_type": "code",
   "execution_count": 3,
   "id": "f16dda10-67eb-4c02-91b4-917c406e3fed",
   "metadata": {},
   "outputs": [
    {
     "data": {
      "text/plain": [
       "0       0\n",
       "1       0\n",
       "2       0\n",
       "3       0\n",
       "4       0\n",
       "       ..\n",
       "9985    9\n",
       "9986    9\n",
       "9987    9\n",
       "9988    9\n",
       "9989    9\n",
       "Name: label, Length: 9990, dtype: int64"
      ]
     },
     "execution_count": 3,
     "metadata": {},
     "output_type": "execute_result"
    }
   ],
   "source": [
    "from sklearn import preprocessing\n",
    "\n",
    "le = preprocessing.LabelEncoder()\n",
    "le.fit(df.label)\n",
    "df['label'] = le.transform(df.label)\n",
    "df['label']"
   ]
  },
  {
   "cell_type": "code",
   "execution_count": 17,
   "id": "0b7ddee0-fcfb-41a8-bacc-88569d92c81e",
   "metadata": {},
   "outputs": [],
   "source": [
    "y = df['label'].values\n",
    "X = df.iloc[:, 1:-1].values\n",
    "\n",
    "scaler = StandardScaler()\n",
    "\n",
    "X_scaled = scaler.fit_transform(X)\n",
    "\n",
    "X_train, X_test, y_train, y_test = \\\n",
    "    train_test_split(X, y,\n",
    "                     train_size=0.7,\n",
    "                     stratify=y,\n",
    "                     random_state=0)\n",
    "\n",
    "X_train_scaled, X_test_scaled, y_train_scaled, y_test_scaled = \\\n",
    "    train_test_split(X_scaled, y,\n",
    "                     train_size=0.7,\n",
    "                     stratify=y,\n",
    "                     random_state=0)"
   ]
  },
  {
   "cell_type": "markdown",
   "id": "5f8b65cc-4000-4e46-8d3a-cb66489a22ce",
   "metadata": {},
   "source": [
    "### Random Forest\n",
    "\n",
    "We start with random forest. We removed many of the parameters that we searched in the interest of time. However, we performed a grid search cross validation for hyperparameter tuning"
   ]
  },
  {
   "cell_type": "code",
   "execution_count": 161,
   "id": "bf96b03c-c212-4564-80a2-41f49f289505",
   "metadata": {},
   "outputs": [
    {
     "name": "stdout",
     "output_type": "stream",
     "text": [
      "46.83710479736328\n",
      "Best Accuracy: 85.1567%\n",
      "Best Params: {'criterion': 'gini', 'max_depth': 20, 'n_estimators': 380, 'oob_score': True, 'random_state': 261}\n",
      "Test Accuracy: 87.2873%\n"
     ]
    }
   ],
   "source": [
    "from sklearn.ensemble import RandomForestClassifier\n",
    "import time\n",
    "\n",
    "t1 = time.time()\n",
    "rf = RandomForestClassifier()\n",
    "#92 n: 85.919%\n",
    "#412 n: 87.554%\n",
    "#84: 86.812\n",
    "#252: 86.883\n",
    "#261: 86.919\n",
    "#184: 86.991\n",
    "#213: 87.312\n",
    "\n",
    "params = {\n",
    "    \"n_estimators\": [380],\n",
    "    \"random_state\": [261],\n",
    "    \"max_depth\": [20],\n",
    "    \"criterion\": [\"gini\"],\n",
    "    \"oob_score\": [True]\n",
    "}\n",
    "\n",
    "gs_rf = GridSearchCV(estimator=rf,\n",
    "                  param_grid=params,\n",
    "                  scoring='accuracy',\n",
    "                  cv=5)\n",
    "\n",
    "##k fold cross validation\n",
    "\n",
    "gs_rf.fit(X_train, y_train)\n",
    "\n",
    "print(str(time.time() - t1))\n",
    "print('Best Accuracy: %.4f%%' % (gs_rf.best_score_*100))\n",
    "print('Best Params: %s' % gs_rf.best_params_)\n",
    "print(f\"Test Accuracy: {gs_rf.score(X_test, y_test)*100:0.4f}%\")"
   ]
  },
  {
   "cell_type": "code",
   "execution_count": 164,
   "id": "c25b88c7-0f10-462f-9834-80aa50d8d3d0",
   "metadata": {},
   "outputs": [
    {
     "data": {
      "text/plain": [
       "0.872145768758665"
      ]
     },
     "execution_count": 164,
     "metadata": {},
     "output_type": "execute_result"
    }
   ],
   "source": [
    "# F1-Score\n",
    "f1_score(y_test, gs_rf.best_estimator_.predict(X_test), average='macro')"
   ]
  },
  {
   "cell_type": "code",
   "execution_count": 165,
   "id": "07e7e238-b057-4be2-9248-9f5c770b4e23",
   "metadata": {},
   "outputs": [
    {
     "data": {
      "text/plain": [
       "0.9882112029792621"
      ]
     },
     "execution_count": 165,
     "metadata": {},
     "output_type": "execute_result"
    }
   ],
   "source": [
    "rf_ra = roc_auc_score(y_test, gs_rf.best_estimator_.predict_proba(X_test), multi_class='ovr')\n",
    "rf_ra"
   ]
  },
  {
   "cell_type": "code",
   "execution_count": 166,
   "id": "f9c9c9cf-7aee-4980-8a72-54fb23c7902c",
   "metadata": {},
   "outputs": [
    {
     "data": {
      "text/plain": [
       "0.8730109529336728"
      ]
     },
     "execution_count": 166,
     "metadata": {},
     "output_type": "execute_result"
    }
   ],
   "source": [
    "precision_score(y_test, gs_rf.best_estimator_.predict(X_test), average='macro')"
   ]
  },
  {
   "cell_type": "markdown",
   "id": "5dacdf54-1aaa-4def-ac58-aa282e022fea",
   "metadata": {},
   "source": [
    "#### Random Forest Cross Validation"
   ]
  },
  {
   "cell_type": "markdown",
   "id": "adcf7127-3c4b-4d34-bc34-3f23fc6e877b",
   "metadata": {},
   "source": [
    "### KNN"
   ]
  },
  {
   "cell_type": "markdown",
   "id": "7b3095d4-a036-4bed-ae9e-6b06a76e1bb1",
   "metadata": {},
   "source": [
    "Initial params\n",
    "\n",
    "---\n",
    "\n",
    "params = {\n",
    "    \n",
    "    \"n_neighbors\": range(1, 11),\n",
    "    \n",
    "    \"weights\": [\"uniform\", \"distance\"],\n",
    "    \n",
    "    \"algorithm\": [\"auto\", \"ball_tree\", \"kd_tree\", \"brute\"],\n",
    "    \n",
    "    \"p\": [1, 2]\n",
    "    \n",
    "}"
   ]
  },
  {
   "cell_type": "code",
   "execution_count": 172,
   "id": "cb90d7f9-d9d7-4a16-b38f-d7c4bc6e9262",
   "metadata": {},
   "outputs": [
    {
     "name": "stdout",
     "output_type": "stream",
     "text": [
      "1.0184800624847412\n",
      "Best Accuracy: 91.420%\n",
      "Best Params: {'algorithm': 'auto', 'n_neighbors': 1, 'p': 1, 'weights': 'uniform'}\n",
      "Test Accuracy: 92.759%\n"
     ]
    }
   ],
   "source": [
    "from sklearn.neighbors import KNeighborsClassifier\n",
    "\n",
    "t1 = time.time()\n",
    "\n",
    "kn = KNeighborsClassifier()\n",
    "\n",
    "params = {\n",
    "    \"n_neighbors\": [1],\n",
    "    \"weights\": [\"uniform\"],\n",
    "    \"algorithm\": [\"auto\"],\n",
    "    \"p\": [1]\n",
    "    \n",
    "}\n",
    "\n",
    "gs_knn = GridSearchCV(estimator=kn,\n",
    "                  param_grid=params,\n",
    "                  scoring='accuracy',\n",
    "                  cv=5)\n",
    "\n",
    "##k fold cross validation\n",
    "\n",
    "gs_knn.fit(X_train_scaled, y_train_scaled)\n",
    "\n",
    "print(str(time.time() - t1))\n",
    "print('Best Accuracy: %.3f%%' % (gs_knn.best_score_*100))\n",
    "print('Best Params: %s' % gs_knn.best_params_)\n",
    "print(f\"Test Accuracy: {gs_knn.best_estimator_.score(X_test_scaled, y_test_scaled)*100:0.3f}%\")"
   ]
  },
  {
   "cell_type": "code",
   "execution_count": 169,
   "id": "a4d29e74-12c9-49f1-9472-aefd707dc994",
   "metadata": {},
   "outputs": [
    {
     "data": {
      "text/plain": [
       "0.9142000059310706"
      ]
     },
     "execution_count": 169,
     "metadata": {},
     "output_type": "execute_result"
    }
   ],
   "source": [
    "score = cross_val_score(gs_knn.best_estimator_, X_train_scaled, y_train_scaled, cv=5)\n",
    "np.mean(score)"
   ]
  },
  {
   "cell_type": "code",
   "execution_count": 170,
   "id": "68a1b39a-f2b3-4654-be2b-b21679223fa4",
   "metadata": {},
   "outputs": [
    {
     "data": {
      "text/plain": [
       "0.9275942609275942"
      ]
     },
     "execution_count": 170,
     "metadata": {},
     "output_type": "execute_result"
    }
   ],
   "source": [
    "accuracy_score(y_test_scaled, gs_knn.best_estimator_.predict(X_test_scaled))"
   ]
  },
  {
   "cell_type": "code",
   "execution_count": 171,
   "id": "f6b4fde7-af01-4e20-92aa-4adf7c4e5695",
   "metadata": {},
   "outputs": [
    {
     "data": {
      "text/plain": [
       "0.9275324487942423"
      ]
     },
     "execution_count": 171,
     "metadata": {},
     "output_type": "execute_result"
    }
   ],
   "source": [
    "f1_score(y_test_scaled, gs_knn.best_estimator_.predict(X_test_scaled), average='macro')"
   ]
  },
  {
   "cell_type": "code",
   "execution_count": 145,
   "id": "e568b545-df76-46da-b931-7e81d82febcb",
   "metadata": {},
   "outputs": [
    {
     "data": {
      "text/plain": [
       "0.9597600874471299"
      ]
     },
     "execution_count": 145,
     "metadata": {},
     "output_type": "execute_result"
    }
   ],
   "source": [
    "knn_ra = roc_auc_score(y_test_scaled, gs_knn.best_estimator_.predict_proba(X_test_scaled), multi_class='ovr')\n",
    "knn_ra"
   ]
  },
  {
   "cell_type": "code",
   "execution_count": 157,
   "id": "1eb75436-7076-4095-9249-eabd476ab272",
   "metadata": {},
   "outputs": [
    {
     "data": {
      "text/plain": [
       "0.9283392653340228"
      ]
     },
     "execution_count": 157,
     "metadata": {},
     "output_type": "execute_result"
    }
   ],
   "source": [
    "precision_score(y_test_scaled, gs_knn.best_estimator_.predict(X_test_scaled), average='macro')"
   ]
  },
  {
   "cell_type": "markdown",
   "id": "d94a865e-e1b7-47a0-89bc-ca3968279a13",
   "metadata": {
    "tags": []
   },
   "source": [
    "#### SVM"
   ]
  },
  {
   "cell_type": "markdown",
   "id": "de8478de-6996-472b-a941-f49dfda13fd3",
   "metadata": {},
   "source": [
    "Initial Params listed below\n",
    "\n",
    "---\n",
    "\n",
    "param_grid = {'C': [0.1, 1, 10, 100, 1000],\n",
    "              'gamma': [1, 0.1, 0.01, 0.001, 0.0001],\n",
    "              'kernel': ['rbf']}"
   ]
  },
  {
   "cell_type": "code",
   "execution_count": 160,
   "id": "47088440-e084-469f-a6d5-fae71b272f32",
   "metadata": {},
   "outputs": [
    {
     "name": "stdout",
     "output_type": "stream",
     "text": [
      "0.9676499366760254\n",
      "Train Accuracy: 91.949%\n",
      "Test Accuracy: 85.0517%\n"
     ]
    }
   ],
   "source": [
    "from sklearn import svm\n",
    "\n",
    "model = svm.SVC(decision_function_shape='ovo', random_state=0)\n",
    "t1 = time.time()\n",
    "model.fit(X_train_scaled, y_train_scaled)\n",
    "print(str(time.time() - t1))\n",
    "svm_score = model.score(X_test_scaled, y_test_scaled)\n",
    "print(f\"Train Accuracy: {model.score(X_train_scaled, y_train_scaled)*100:0.3f}%\")\n",
    "print(f\"Test Accuracy: {svm_score*100:0.4f}%\")"
   ]
  },
  {
   "cell_type": "code",
   "execution_count": 162,
   "id": "2e42e542-72ab-4a28-b2e0-2f132dd5cab9",
   "metadata": {},
   "outputs": [
    {
     "name": "stdout",
     "output_type": "stream",
     "text": [
      "Best Accuracy: 88.1739%\n",
      "Best Params: {'C': 100, 'gamma': 0.01, 'kernel': 'rbf', 'probability': True}\n",
      "Test Accuracy: 90.724%\n"
     ]
    }
   ],
   "source": [
    "param_grid = {'C': [100],\n",
    "              'gamma': [0.01],\n",
    "              'kernel': ['rbf'],\n",
    "              'probability': [True]}\n",
    "\n",
    "gs_svm = GridSearchCV(estimator=model,\n",
    "                  param_grid=param_grid,\n",
    "                  scoring='accuracy',\n",
    "                  cv=5)\n",
    "\n",
    "gs_svm.fit(X_train_scaled, y_train_scaled)\n",
    "print('Best Accuracy: %.4f%%' % (gs_svm.best_score_*100))\n",
    "print('Best Params: %s' % gs_svm.best_params_)\n",
    "print(f\"Test Accuracy: {gs_svm.best_estimator_.score(X_test_scaled, y_test_scaled)*100:0.3f}%\")"
   ]
  },
  {
   "cell_type": "code",
   "execution_count": 163,
   "id": "1a27c1bc-9ebd-4ebd-a0da-0645e62d05ac",
   "metadata": {},
   "outputs": [
    {
     "data": {
      "text/plain": [
       "0.9067111456351078"
      ]
     },
     "execution_count": 163,
     "metadata": {},
     "output_type": "execute_result"
    }
   ],
   "source": [
    "# f1-score\n",
    "f1_score(y_test_scaled, gs_svm.best_estimator_.predict(X_test_scaled), average='macro')"
   ]
  },
  {
   "cell_type": "code",
   "execution_count": 146,
   "id": "1f57c541-d5cd-460b-8e55-e3284495c4a5",
   "metadata": {},
   "outputs": [
    {
     "data": {
      "text/plain": [
       "0.9942948317259331"
      ]
     },
     "execution_count": 146,
     "metadata": {},
     "output_type": "execute_result"
    }
   ],
   "source": [
    "svm_ra = roc_auc_score(y_test_scaled, gs_svm.best_estimator_.predict_proba(X_test_scaled), multi_class='ovr')\n",
    "svm_ra"
   ]
  },
  {
   "cell_type": "markdown",
   "id": "730fbd21-da90-4df7-8045-bd08d3f36680",
   "metadata": {},
   "source": [
    "#### Gradient Boosting"
   ]
  },
  {
   "cell_type": "markdown",
   "id": "9b66d91d-bb25-4484-86a5-01db81f2198c",
   "metadata": {},
   "source": [
    "Initial Params listed below\n",
    "\n",
    "---\n",
    "\n",
    "param_grid = {\n",
    "    'classifier__learning_rate': (0.01, 0.1, 1, 10),\n",
    "    'classifier__max_leaf_nodes': (3, 10, 30)\n",
    "}"
   ]
  },
  {
   "cell_type": "code",
   "execution_count": 107,
   "id": "9f2f87c6-90d2-4e82-b86a-d01d8f82f574",
   "metadata": {},
   "outputs": [
    {
     "name": "stdout",
     "output_type": "stream",
     "text": [
      "9.126726150512695\n",
      "Train Accuracy: 99.914%\n",
      "Test Accuracy: 89.623%\n"
     ]
    }
   ],
   "source": [
    "from sklearn.ensemble import HistGradientBoostingClassifier\n",
    "clf = HistGradientBoostingClassifier(random_state=123)\n",
    "t1 = time.time()\n",
    "clf = clf.fit(X_train, y_train)\n",
    "print(str(time.time() - t1))\n",
    "hist_gb_score = clf.score(X_test, y_test)\n",
    "print(f\"Train Accuracy: {clf.score(X_train, y_train)*100:0.3f}%\")\n",
    "print(f\"Test Accuracy: {hist_gb_score*100:0.3f}%\")"
   ]
  },
  {
   "cell_type": "code",
   "execution_count": 174,
   "id": "5aedf7d1-3a0a-417f-8fe1-b06be83dabc1",
   "metadata": {},
   "outputs": [
    {
     "name": "stdout",
     "output_type": "stream",
     "text": [
      "Best Accuracy: 89.032%\n",
      "Best Params: {'learning_rate': 0.1, 'max_leaf_nodes': 30}\n",
      "Test Accuracy: 89.857%\n"
     ]
    }
   ],
   "source": [
    "param_grid = {\n",
    "    'learning_rate': [0.1],\n",
    "    'max_leaf_nodes': [30]\n",
    "}\n",
    "\n",
    "gs_gb = GridSearchCV(estimator=clf,\n",
    "                  param_grid=param_grid,\n",
    "                  scoring='accuracy',\n",
    "                  cv=5)\n",
    "\n",
    "gs_gb.fit(X_train, y_train)\n",
    "print('Best Accuracy: %.3f%%' % (gs_gb.best_score_*100))\n",
    "print('Best Params: %s' % gs_gb.best_params_)\n",
    "print(f\"Test Accuracy: {gs_gb.best_estimator_.score(X_test, y_test)*100:0.3f}%\")"
   ]
  },
  {
   "cell_type": "code",
   "execution_count": 168,
   "id": "06593c35-751b-4192-b265-c7925368a10a",
   "metadata": {},
   "outputs": [
    {
     "data": {
      "text/plain": [
       "0.8983442385479691"
      ]
     },
     "execution_count": 168,
     "metadata": {},
     "output_type": "execute_result"
    }
   ],
   "source": [
    "f1_score(y_test, gs_gb.best_estimator_.predict(X_test), average='macro')"
   ]
  },
  {
   "cell_type": "code",
   "execution_count": 147,
   "id": "f216353e-d1cc-410d-8f1e-e3cc5d78dcf2",
   "metadata": {},
   "outputs": [
    {
     "data": {
      "text/plain": [
       "0.9935791461281662"
      ]
     },
     "execution_count": 147,
     "metadata": {},
     "output_type": "execute_result"
    }
   ],
   "source": [
    "gb_ra = roc_auc_score(y_test, gs_gb.best_estimator_.predict_proba(X_test), multi_class='ovr')\n",
    "gb_ra"
   ]
  },
  {
   "cell_type": "markdown",
   "id": "ec3bceff-fc43-43f4-bfb1-6e0ca2eb6241",
   "metadata": {},
   "source": [
    "### McNemar tests"
   ]
  },
  {
   "cell_type": "markdown",
   "id": "d30649e5-b84d-41ff-90ff-31043d000424",
   "metadata": {},
   "source": [
    "##### Gradient Boosting and KNN"
   ]
  },
  {
   "cell_type": "code",
   "execution_count": 100,
   "id": "5519ae66-04d9-4184-86c7-7ad4cd0b1c65",
   "metadata": {},
   "outputs": [
    {
     "data": {
      "text/plain": [
       "array([[2563,  217],\n",
       "       [ 130,   87]])"
      ]
     },
     "execution_count": 100,
     "metadata": {},
     "output_type": "execute_result"
    }
   ],
   "source": [
    "accuracy_score(y_test, gs_gb.best_estimator_.predict(X_test))\n",
    "gb_pd = gs_gb.best_estimator_.predict(X_test)\n",
    "knn_pd = gs_knn.best_estimator_.predict(X_test_scaled)\n",
    "tb = np.array([[0, 0],\n",
    "              [0, 0]])\n",
    "for i in range(len(gb_pd)):\n",
    "    t1 = gb_pd[i] == y_test[i]\n",
    "    t2 = knn_pd[i] == y_test_scaled[i]\n",
    "    if t1 and t2:\n",
    "        tb[0][0] += 1\n",
    "    elif t1:\n",
    "        tb[1][0] += 1\n",
    "    elif t2:\n",
    "        tb[0][1] += 1\n",
    "    else:\n",
    "        tb[1][1] += 1\n",
    "tb"
   ]
  },
  {
   "cell_type": "code",
   "execution_count": 101,
   "id": "3615df7a-981c-4c9b-a5ff-e916ede9edf0",
   "metadata": {},
   "outputs": [
    {
     "name": "stdout",
     "output_type": "stream",
     "text": [
      "chi-squared: 21.314121037463977\n",
      "p-value: 3.898491498111577e-06\n"
     ]
    }
   ],
   "source": [
    "from mlxtend.evaluate import mcnemar\n",
    "\n",
    "chi2, p = mcnemar(ary=tb, corrected=True)\n",
    "print('chi-squared:', chi2)\n",
    "print('p-value:', p)"
   ]
  },
  {
   "cell_type": "markdown",
   "id": "45be36cd-6afa-456d-be4f-2b59a65f477b",
   "metadata": {},
   "source": [
    "##### KNN and SVM"
   ]
  },
  {
   "cell_type": "code",
   "execution_count": 102,
   "id": "59b85cf2-4044-4141-b45e-89be5feec2f2",
   "metadata": {},
   "outputs": [
    {
     "data": {
      "text/plain": [
       "array([[2602,  117],\n",
       "       [ 178,  100]])"
      ]
     },
     "execution_count": 102,
     "metadata": {},
     "output_type": "execute_result"
    }
   ],
   "source": [
    "svm_p = gs_svm.best_estimator_.predict(X_test_scaled)\n",
    "knn_p = gs_knn.best_estimator_.predict(X_test_scaled)\n",
    "tb = mcnemar_table(y_target=y_test_scaled, \n",
    "                   y_model1=svm_p, \n",
    "                   y_model2=knn_p)\n",
    "tb"
   ]
  },
  {
   "cell_type": "code",
   "execution_count": 103,
   "id": "c4bbf484-37ff-4fe4-8e81-141162747c91",
   "metadata": {},
   "outputs": [
    {
     "name": "stdout",
     "output_type": "stream",
     "text": [
      "chi-squared: 12.203389830508474\n",
      "p-value: 0.0004770275703526321\n"
     ]
    }
   ],
   "source": [
    "chi2, p = mcnemar(ary=tb, corrected=True)\n",
    "print('chi-squared:', chi2)\n",
    "print('p-value:', p)"
   ]
  },
  {
   "cell_type": "markdown",
   "id": "3cbd193a-affc-4187-bfb8-26964f8ecfd4",
   "metadata": {},
   "source": [
    "##### Gradient Boosting and SVM"
   ]
  },
  {
   "cell_type": "code",
   "execution_count": 104,
   "id": "bcfce072-5579-4825-ad0c-82a8eac9ca6f",
   "metadata": {},
   "outputs": [
    {
     "data": {
      "text/plain": [
       "array([[2557,  162],\n",
       "       [ 136,  142]])"
      ]
     },
     "execution_count": 104,
     "metadata": {},
     "output_type": "execute_result"
    }
   ],
   "source": [
    "gb_pd = gs_gb.best_estimator_.predict(X_test)\n",
    "svm_pd = gs_svm.best_estimator_.predict(X_test_scaled)\n",
    "tb = np.array([[0, 0],\n",
    "              [0, 0]])\n",
    "for i in range(len(gb_pd)):\n",
    "    t1 = gb_pd[i] == y_test[i]\n",
    "    t2 = svm_pd[i] == y_test_scaled[i]\n",
    "    if t1 and t2:\n",
    "        tb[0][0] += 1\n",
    "    elif t1:\n",
    "        tb[1][0] += 1\n",
    "    elif t2:\n",
    "        tb[0][1] += 1\n",
    "    else:\n",
    "        tb[1][1] += 1\n",
    "tb"
   ]
  },
  {
   "cell_type": "code",
   "execution_count": 105,
   "id": "a6b522f7-7979-4e9c-a273-2e993432dee1",
   "metadata": {},
   "outputs": [
    {
     "name": "stdout",
     "output_type": "stream",
     "text": [
      "chi-squared: 2.097315436241611\n",
      "p-value: 0.14755801673609054\n"
     ]
    }
   ],
   "source": [
    "from mlxtend.evaluate import mcnemar\n",
    "\n",
    "chi2, p = mcnemar(ary=tb, corrected=True)\n",
    "print('chi-squared:', chi2)\n",
    "print('p-value:', p)"
   ]
  }
 ],
 "metadata": {
  "kernelspec": {
   "display_name": "Python (myenv)",
   "language": "python",
   "name": "myenv"
  },
  "language_info": {
   "codemirror_mode": {
    "name": "ipython",
    "version": 3
   },
   "file_extension": ".py",
   "mimetype": "text/x-python",
   "name": "python",
   "nbconvert_exporter": "python",
   "pygments_lexer": "ipython3",
   "version": "3.9.7"
  }
 },
 "nbformat": 4,
 "nbformat_minor": 5
}
