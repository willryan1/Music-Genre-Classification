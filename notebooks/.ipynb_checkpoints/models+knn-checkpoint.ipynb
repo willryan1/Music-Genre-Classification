{
 "cells": [
  {
   "cell_type": "markdown",
   "id": "93eaf80e-1f06-4dfa-9af6-6098b9d39b06",
   "metadata": {},
   "source": [
    "# Final Project Baseline Models\n",
    "\n",
    "STAT 451: Machine Learning (Fall 2021)  \n",
    "Instructor: Sebastian Raschka (sraschka@wisc.edu)   \n",
    "\n",
    "---\n",
    "\n",
    "\n",
    "\n",
    "This notebook is used to display the variety of models that were fit to the 3 second dataset\n",
    "\n",
    "This notebook will include\n",
    "\n",
    "* Models\n",
    "* Accuracy metrics including the holdout method, cross-validation, and bootstrap methods\n",
    "* Hyperparameter tuning"
   ]
  },
  {
   "cell_type": "code",
   "execution_count": 1,
   "id": "09cfa6fe-bd5e-47e5-953f-37b06b95d965",
   "metadata": {},
   "outputs": [],
   "source": [
    "#%load_ext watermark\n",
    "#%watermark  -d -u -a 'William Ryan' -v -p numpy,scipy,matplotlib,sklearn,pandas"
   ]
  },
  {
   "cell_type": "code",
   "execution_count": 2,
   "id": "30fc5910-ae8d-44dc-85ee-19f3a43f918c",
   "metadata": {},
   "outputs": [],
   "source": [
    "import pandas as pd\n",
    "import numpy as np\n",
    "\n",
    "from sklearn.model_selection import train_test_split\n",
    "from sklearn.preprocessing import StandardScaler\n",
    "from sklearn.pipeline import make_pipeline\n",
    "\n",
    "import matplotlib.pyplot as plt\n",
    "%matplotlib inline"
   ]
  },
  {
   "cell_type": "code",
   "execution_count": 3,
   "id": "1acb1234-f7f5-4442-8a63-5cddf7a7d49d",
   "metadata": {},
   "outputs": [
    {
     "data": {
      "text/html": [
       "<div>\n",
       "<style scoped>\n",
       "    .dataframe tbody tr th:only-of-type {\n",
       "        vertical-align: middle;\n",
       "    }\n",
       "\n",
       "    .dataframe tbody tr th {\n",
       "        vertical-align: top;\n",
       "    }\n",
       "\n",
       "    .dataframe thead th {\n",
       "        text-align: right;\n",
       "    }\n",
       "</style>\n",
       "<table border=\"1\" class=\"dataframe\">\n",
       "  <thead>\n",
       "    <tr style=\"text-align: right;\">\n",
       "      <th></th>\n",
       "      <th>filename</th>\n",
       "      <th>length</th>\n",
       "      <th>chroma_stft_mean</th>\n",
       "      <th>chroma_stft_var</th>\n",
       "      <th>rms_mean</th>\n",
       "      <th>rms_var</th>\n",
       "      <th>spectral_centroid_mean</th>\n",
       "      <th>spectral_centroid_var</th>\n",
       "      <th>spectral_bandwidth_mean</th>\n",
       "      <th>spectral_bandwidth_var</th>\n",
       "      <th>...</th>\n",
       "      <th>mfcc16_var</th>\n",
       "      <th>mfcc17_mean</th>\n",
       "      <th>mfcc17_var</th>\n",
       "      <th>mfcc18_mean</th>\n",
       "      <th>mfcc18_var</th>\n",
       "      <th>mfcc19_mean</th>\n",
       "      <th>mfcc19_var</th>\n",
       "      <th>mfcc20_mean</th>\n",
       "      <th>mfcc20_var</th>\n",
       "      <th>label</th>\n",
       "    </tr>\n",
       "  </thead>\n",
       "  <tbody>\n",
       "    <tr>\n",
       "      <th>0</th>\n",
       "      <td>blues.00000.0.wav</td>\n",
       "      <td>66149</td>\n",
       "      <td>0.335406</td>\n",
       "      <td>0.091048</td>\n",
       "      <td>0.130405</td>\n",
       "      <td>0.003521</td>\n",
       "      <td>1773.065032</td>\n",
       "      <td>167541.630869</td>\n",
       "      <td>1972.744388</td>\n",
       "      <td>117335.771563</td>\n",
       "      <td>...</td>\n",
       "      <td>39.687145</td>\n",
       "      <td>-3.241280</td>\n",
       "      <td>36.488243</td>\n",
       "      <td>0.722209</td>\n",
       "      <td>38.099152</td>\n",
       "      <td>-5.050335</td>\n",
       "      <td>33.618073</td>\n",
       "      <td>-0.243027</td>\n",
       "      <td>43.771767</td>\n",
       "      <td>blues</td>\n",
       "    </tr>\n",
       "    <tr>\n",
       "      <th>1</th>\n",
       "      <td>blues.00000.1.wav</td>\n",
       "      <td>66149</td>\n",
       "      <td>0.343065</td>\n",
       "      <td>0.086147</td>\n",
       "      <td>0.112699</td>\n",
       "      <td>0.001450</td>\n",
       "      <td>1816.693777</td>\n",
       "      <td>90525.690866</td>\n",
       "      <td>2010.051501</td>\n",
       "      <td>65671.875673</td>\n",
       "      <td>...</td>\n",
       "      <td>64.748276</td>\n",
       "      <td>-6.055294</td>\n",
       "      <td>40.677654</td>\n",
       "      <td>0.159015</td>\n",
       "      <td>51.264091</td>\n",
       "      <td>-2.837699</td>\n",
       "      <td>97.030830</td>\n",
       "      <td>5.784063</td>\n",
       "      <td>59.943081</td>\n",
       "      <td>blues</td>\n",
       "    </tr>\n",
       "    <tr>\n",
       "      <th>2</th>\n",
       "      <td>blues.00000.2.wav</td>\n",
       "      <td>66149</td>\n",
       "      <td>0.346815</td>\n",
       "      <td>0.092243</td>\n",
       "      <td>0.132003</td>\n",
       "      <td>0.004620</td>\n",
       "      <td>1788.539719</td>\n",
       "      <td>111407.437613</td>\n",
       "      <td>2084.565132</td>\n",
       "      <td>75124.921716</td>\n",
       "      <td>...</td>\n",
       "      <td>67.336563</td>\n",
       "      <td>-1.768610</td>\n",
       "      <td>28.348579</td>\n",
       "      <td>2.378768</td>\n",
       "      <td>45.717648</td>\n",
       "      <td>-1.938424</td>\n",
       "      <td>53.050835</td>\n",
       "      <td>2.517375</td>\n",
       "      <td>33.105122</td>\n",
       "      <td>blues</td>\n",
       "    </tr>\n",
       "    <tr>\n",
       "      <th>3</th>\n",
       "      <td>blues.00000.3.wav</td>\n",
       "      <td>66149</td>\n",
       "      <td>0.363639</td>\n",
       "      <td>0.086856</td>\n",
       "      <td>0.132565</td>\n",
       "      <td>0.002448</td>\n",
       "      <td>1655.289045</td>\n",
       "      <td>111952.284517</td>\n",
       "      <td>1960.039988</td>\n",
       "      <td>82913.639269</td>\n",
       "      <td>...</td>\n",
       "      <td>47.739452</td>\n",
       "      <td>-3.841155</td>\n",
       "      <td>28.337118</td>\n",
       "      <td>1.218588</td>\n",
       "      <td>34.770935</td>\n",
       "      <td>-3.580352</td>\n",
       "      <td>50.836224</td>\n",
       "      <td>3.630866</td>\n",
       "      <td>32.023678</td>\n",
       "      <td>blues</td>\n",
       "    </tr>\n",
       "    <tr>\n",
       "      <th>4</th>\n",
       "      <td>blues.00000.4.wav</td>\n",
       "      <td>66149</td>\n",
       "      <td>0.335579</td>\n",
       "      <td>0.088129</td>\n",
       "      <td>0.143289</td>\n",
       "      <td>0.001701</td>\n",
       "      <td>1630.656199</td>\n",
       "      <td>79667.267654</td>\n",
       "      <td>1948.503884</td>\n",
       "      <td>60204.020268</td>\n",
       "      <td>...</td>\n",
       "      <td>30.336359</td>\n",
       "      <td>0.664582</td>\n",
       "      <td>45.880913</td>\n",
       "      <td>1.689446</td>\n",
       "      <td>51.363583</td>\n",
       "      <td>-3.392489</td>\n",
       "      <td>26.738789</td>\n",
       "      <td>0.536961</td>\n",
       "      <td>29.146694</td>\n",
       "      <td>blues</td>\n",
       "    </tr>\n",
       "  </tbody>\n",
       "</table>\n",
       "<p>5 rows × 60 columns</p>\n",
       "</div>"
      ],
      "text/plain": [
       "            filename  length  chroma_stft_mean  chroma_stft_var  rms_mean  \\\n",
       "0  blues.00000.0.wav   66149          0.335406         0.091048  0.130405   \n",
       "1  blues.00000.1.wav   66149          0.343065         0.086147  0.112699   \n",
       "2  blues.00000.2.wav   66149          0.346815         0.092243  0.132003   \n",
       "3  blues.00000.3.wav   66149          0.363639         0.086856  0.132565   \n",
       "4  blues.00000.4.wav   66149          0.335579         0.088129  0.143289   \n",
       "\n",
       "    rms_var  spectral_centroid_mean  spectral_centroid_var  \\\n",
       "0  0.003521             1773.065032          167541.630869   \n",
       "1  0.001450             1816.693777           90525.690866   \n",
       "2  0.004620             1788.539719          111407.437613   \n",
       "3  0.002448             1655.289045          111952.284517   \n",
       "4  0.001701             1630.656199           79667.267654   \n",
       "\n",
       "   spectral_bandwidth_mean  spectral_bandwidth_var  ...  mfcc16_var  \\\n",
       "0              1972.744388           117335.771563  ...   39.687145   \n",
       "1              2010.051501            65671.875673  ...   64.748276   \n",
       "2              2084.565132            75124.921716  ...   67.336563   \n",
       "3              1960.039988            82913.639269  ...   47.739452   \n",
       "4              1948.503884            60204.020268  ...   30.336359   \n",
       "\n",
       "   mfcc17_mean  mfcc17_var  mfcc18_mean  mfcc18_var  mfcc19_mean  mfcc19_var  \\\n",
       "0    -3.241280   36.488243     0.722209   38.099152    -5.050335   33.618073   \n",
       "1    -6.055294   40.677654     0.159015   51.264091    -2.837699   97.030830   \n",
       "2    -1.768610   28.348579     2.378768   45.717648    -1.938424   53.050835   \n",
       "3    -3.841155   28.337118     1.218588   34.770935    -3.580352   50.836224   \n",
       "4     0.664582   45.880913     1.689446   51.363583    -3.392489   26.738789   \n",
       "\n",
       "   mfcc20_mean  mfcc20_var  label  \n",
       "0    -0.243027   43.771767  blues  \n",
       "1     5.784063   59.943081  blues  \n",
       "2     2.517375   33.105122  blues  \n",
       "3     3.630866   32.023678  blues  \n",
       "4     0.536961   29.146694  blues  \n",
       "\n",
       "[5 rows x 60 columns]"
      ]
     },
     "execution_count": 3,
     "metadata": {},
     "output_type": "execute_result"
    }
   ],
   "source": [
    "data_path = 'Data/features_3_sec.csv'\n",
    "df = pd.read_csv(data_path)\n",
    "df.head()"
   ]
  },
  {
   "cell_type": "code",
   "execution_count": 4,
   "id": "82c22757-c771-45b1-a702-2e651326884b",
   "metadata": {},
   "outputs": [
    {
     "data": {
      "text/plain": [
       "(9990, 60)"
      ]
     },
     "execution_count": 4,
     "metadata": {},
     "output_type": "execute_result"
    }
   ],
   "source": [
    "df.shape"
   ]
  },
  {
   "cell_type": "code",
   "execution_count": 5,
   "id": "cf714db7-ad42-4eb1-9a19-82aadcc6b16e",
   "metadata": {},
   "outputs": [
    {
     "data": {
      "text/plain": [
       "array(['blues', 'classical', 'country', 'disco', 'hiphop', 'jazz',\n",
       "       'metal', 'pop', 'reggae', 'rock'], dtype=object)"
      ]
     },
     "execution_count": 5,
     "metadata": {},
     "output_type": "execute_result"
    }
   ],
   "source": [
    "labels = df['label'].unique()\n",
    "labels"
   ]
  },
  {
   "cell_type": "code",
   "execution_count": 6,
   "id": "04f5d62f-5448-4f47-87f8-4270910420d3",
   "metadata": {},
   "outputs": [
    {
     "data": {
      "text/plain": [
       "0       0\n",
       "1       0\n",
       "2       0\n",
       "3       0\n",
       "4       0\n",
       "       ..\n",
       "9985    9\n",
       "9986    9\n",
       "9987    9\n",
       "9988    9\n",
       "9989    9\n",
       "Name: label, Length: 9990, dtype: int32"
      ]
     },
     "execution_count": 6,
     "metadata": {},
     "output_type": "execute_result"
    }
   ],
   "source": [
    "from sklearn import preprocessing\n",
    "\n",
    "le = preprocessing.LabelEncoder()\n",
    "le.fit(df.label)\n",
    "df['label'] = le.transform(df.label)\n",
    "df['label']"
   ]
  },
  {
   "cell_type": "code",
   "execution_count": 7,
   "id": "c5d8c702-cc33-4adc-b7d3-69d6093b0dc6",
   "metadata": {},
   "outputs": [
    {
     "data": {
      "text/plain": [
       "array([0, 1, 2, 3, 4, 5, 6, 7, 8, 9])"
      ]
     },
     "execution_count": 7,
     "metadata": {},
     "output_type": "execute_result"
    }
   ],
   "source": [
    "labels = df['label'].unique()\n",
    "labels"
   ]
  },
  {
   "cell_type": "markdown",
   "id": "13a00ab2-22a2-4a92-a0c3-976f36d46740",
   "metadata": {},
   "source": [
    "## Baseline Models\n",
    "\n",
    "We will use these models to understand the baseline accuracy of very simple versions of the models\n",
    "\n",
    "We organize roughly by model complexity\n",
    "\n",
    "We will simply use the holdout method for a performance estimate"
   ]
  },
  {
   "cell_type": "code",
   "execution_count": 8,
   "id": "f403c62c-2829-4ebd-91b0-b769c96970e6",
   "metadata": {},
   "outputs": [],
   "source": [
    "y = df['label'].values\n",
    "X = df.iloc[:, 1:-1].values\n",
    "\n",
    "X_train, X_test, y_train, y_test = \\\n",
    "    train_test_split(X, y,\n",
    "                     train_size=0.7,\n",
    "                     stratify=y,\n",
    "                     random_state=0)"
   ]
  },
  {
   "cell_type": "markdown",
   "id": "6325fe42-8fcc-476b-9de6-401e9d907e7e",
   "metadata": {},
   "source": [
    "#### Logisitic Regression"
   ]
  },
  {
   "cell_type": "code",
   "execution_count": 9,
   "id": "a0ff68c6-4ed0-4c45-8669-6866e46eafed",
   "metadata": {},
   "outputs": [
    {
     "name": "stdout",
     "output_type": "stream",
     "text": [
      "Train Accuracy: 74.617%\n",
      "Test Accuracy: 72.973%\n"
     ]
    }
   ],
   "source": [
    "from sklearn.linear_model import LogisticRegression\n",
    "\n",
    "trans = StandardScaler()\n",
    "\n",
    "model = LogisticRegression(multi_class = 'multinomial',\n",
    "                           max_iter = 300,\n",
    "                           random_state=0)\n",
    "\n",
    "clf = make_pipeline(trans, model)\n",
    "clf.fit(X_train, y_train)\n",
    "lr_score = clf.score(X_test, y_test)*100\n",
    "print(f\"Train Accuracy: {clf.score(X_train, y_train)*100:0.3f}%\")\n",
    "print(f\"Test Accuracy: {lr_score:0.3f}%\")"
   ]
  },
  {
   "cell_type": "markdown",
   "id": "3581a178-75b7-40c8-9ef8-43e0d37ad9ad",
   "metadata": {},
   "source": [
    "#### K-Nearest Neighbors"
   ]
  },
  {
   "cell_type": "code",
   "execution_count": 10,
   "id": "cb9d72cd-d28c-429f-8c9b-54b5aecd80af",
   "metadata": {},
   "outputs": [
    {
     "name": "stdout",
     "output_type": "stream",
     "text": [
      "Train Accuracy: 99.914%\n",
      "Test Accuracy: 92.226%\n"
     ]
    }
   ],
   "source": [
    "from sklearn.neighbors import KNeighborsClassifier\n",
    "\n",
    "trans = StandardScaler()\n",
    "\n",
    "model = KNeighborsClassifier(n_neighbors=3, weights='distance', p=1)\n",
    "\n",
    "clf = make_pipeline(trans, model)\n",
    "clf.fit(X_train, y_train)\n",
    "knn_score = clf.score(X_test, y_test)*100\n",
    "print(f\"Train Accuracy: {clf.score(X_train, y_train)*100:0.3f}%\")\n",
    "print(f\"Test Accuracy: {knn_score:0.3f}%\")"
   ]
  },
  {
   "cell_type": "markdown",
   "id": "5ab190be-24c9-4147-ae2a-2f878df52450",
   "metadata": {},
   "source": [
    "#### Naive Bayes"
   ]
  },
  {
   "cell_type": "code",
   "execution_count": 11,
   "id": "5433a7d0-6f35-461e-9800-492a19dae569",
   "metadata": {},
   "outputs": [
    {
     "name": "stdout",
     "output_type": "stream",
     "text": [
      "Train Accuracy: 52.510%\n",
      "Test Accuracy: 52.286%\n"
     ]
    }
   ],
   "source": [
    "from sklearn.naive_bayes import GaussianNB\n",
    "\n",
    "trans = StandardScaler()\n",
    "\n",
    "model = GaussianNB(priors=None)\n",
    "\n",
    "clf = make_pipeline(trans, model)\n",
    "clf.fit(X_train, y_train)\n",
    "nb_score = clf.score(X_test, y_test)*100\n",
    "print(f\"Train Accuracy: {clf.score(X_train, y_train)*100:0.3f}%\")\n",
    "print(f\"Test Accuracy: {nb_score:0.3f}%\")"
   ]
  },
  {
   "cell_type": "markdown",
   "id": "5c767155-e575-4483-a955-4f59118bd3be",
   "metadata": {},
   "source": [
    "#### SVMs"
   ]
  },
  {
   "cell_type": "code",
   "execution_count": 12,
   "id": "07a04427-6c8f-4ca7-9ca3-f2b5737f7ed4",
   "metadata": {},
   "outputs": [
    {
     "name": "stdout",
     "output_type": "stream",
     "text": [
      "Train Accuracy: 91.949%\n",
      "Test Accuracy: 85.152%\n"
     ]
    }
   ],
   "source": [
    "from sklearn import svm\n",
    "\n",
    "trans = StandardScaler()\n",
    "\n",
    "model = svm.SVC(decision_function_shape='ovo', random_state=0)\n",
    "\n",
    "clf = make_pipeline(trans, model)\n",
    "clf.fit(X_train, y_train)\n",
    "svm_score = clf.score(X_test, y_test)*100\n",
    "print(f\"Train Accuracy: {clf.score(X_train, y_train)*100:0.3f}%\")\n",
    "print(f\"Test Accuracy: {svm_score:0.3f}%\")"
   ]
  },
  {
   "cell_type": "code",
   "execution_count": 13,
   "id": "11e9769e-0796-4407-b036-4b15c1758fb6",
   "metadata": {},
   "outputs": [
    {
     "name": "stdout",
     "output_type": "stream",
     "text": [
      "Train Accuracy: 72.987%\n",
      "Test Accuracy: 71.338%\n"
     ]
    },
    {
     "name": "stderr",
     "output_type": "stream",
     "text": [
      "C:\\Users\\mille\\AppData\\Local\\Packages\\PythonSoftwareFoundation.Python.3.9_qbz5n2kfra8p0\\LocalCache\\local-packages\\Python39\\site-packages\\sklearn\\svm\\_base.py:1199: ConvergenceWarning: Liblinear failed to converge, increase the number of iterations.\n",
      "  warnings.warn(\n"
     ]
    }
   ],
   "source": [
    "lin_clf = svm.LinearSVC(max_iter = 300, random_state=0)\n",
    "clf = make_pipeline(trans, lin_clf)\n",
    "clf.fit(X_train, y_train)\n",
    "print(f\"Train Accuracy: {clf.score(X_train, y_train)*100:0.3f}%\")\n",
    "print(f\"Test Accuracy: {clf.score(X_test, y_test)*100:0.3f}%\")"
   ]
  },
  {
   "cell_type": "code",
   "execution_count": 14,
   "id": "7e0c8e15-bc9e-4fd9-912c-6634518cc236",
   "metadata": {},
   "outputs": [
    {
     "name": "stdout",
     "output_type": "stream",
     "text": [
      "Train Accuracy: 75.547%\n",
      "Test Accuracy: 0.724%\n"
     ]
    }
   ],
   "source": [
    "nu_clf = svm.NuSVC(random_state=0)\n",
    "clf = make_pipeline(trans, nu_clf)\n",
    "clf.fit(X_train, y_train)\n",
    "print(f\"Train Accuracy: {clf.score(X_train, y_train)*100:0.3f}%\")\n",
    "print(f\"Test Accuracy: {clf.score(X_test, y_test):0.3f}%\")"
   ]
  },
  {
   "cell_type": "markdown",
   "id": "9ae49553-afa6-46df-bfb8-2508ccca672d",
   "metadata": {},
   "source": [
    "#### Decision Tree Classifier"
   ]
  },
  {
   "cell_type": "code",
   "execution_count": 15,
   "id": "533b7dad-f0fc-4ba4-835f-4fe7691e4328",
   "metadata": {},
   "outputs": [
    {
     "name": "stdout",
     "output_type": "stream",
     "text": [
      "Train Accuracy: 99.914%\n",
      "Test Accuracy: 65.732%\n"
     ]
    }
   ],
   "source": [
    "from sklearn.tree import DecisionTreeClassifier\n",
    "\n",
    "clf = DecisionTreeClassifier(random_state=0)\n",
    "clf = clf.fit(X_train, y_train)\n",
    "dt_score = clf.score(X_test, y_test)*100\n",
    "print(f\"Train Accuracy: {clf.score(X_train, y_train)*100:0.3f}%\")\n",
    "print(f\"Test Accuracy: {dt_score:0.3f}%\")"
   ]
  },
  {
   "cell_type": "markdown",
   "id": "3162f374-c202-46c1-ad9d-490038e5e340",
   "metadata": {},
   "source": [
    "#### Random Forest Classifier"
   ]
  },
  {
   "cell_type": "code",
   "execution_count": 16,
   "id": "c65d9ff9-bc79-4557-bcb6-1f53c5c4f7ae",
   "metadata": {},
   "outputs": [
    {
     "name": "stdout",
     "output_type": "stream",
     "text": [
      "Train Accuracy: 99.914%\n",
      "Test Accuracy: 8651.985%\n"
     ]
    }
   ],
   "source": [
    "from sklearn.ensemble import RandomForestClassifier\n",
    "clf = RandomForestClassifier(random_state=0)\n",
    "clf = clf.fit(X_train, y_train)\n",
    "rf_score = clf.score(X_test, y_test)*100\n",
    "print(f\"Train Accuracy: {clf.score(X_train, y_train)*100:0.3f}%\")\n",
    "print(f\"Test Accuracy: {rf_score:0.3f}%\")"
   ]
  },
  {
   "cell_type": "markdown",
   "id": "11250778-d73d-4692-84a1-cc0f33a844bd",
   "metadata": {},
   "source": [
    "#### Bagging Classifier"
   ]
  },
  {
   "cell_type": "code",
   "execution_count": 17,
   "id": "557d8a9d-19f1-404b-939f-38afb46a32db",
   "metadata": {},
   "outputs": [
    {
     "name": "stdout",
     "output_type": "stream",
     "text": [
      "Train Accuracy: 99.399%\n",
      "Test Accuracy: 77.578%\n"
     ]
    }
   ],
   "source": [
    "from sklearn.ensemble import BaggingClassifier\n",
    "clf = BaggingClassifier(random_state=0)\n",
    "clf = clf.fit(X_train, y_train)\n",
    "bagging_score = clf.score(X_test, y_test)*100\n",
    "print(f\"Train Accuracy: {clf.score(X_train, y_train)*100:0.3f}%\")\n",
    "print(f\"Test Accuracy: {bagging_score:0.3f}%\")"
   ]
  },
  {
   "cell_type": "markdown",
   "id": "dfe3fb31-87f8-4c31-ae64-f9d44d4bed33",
   "metadata": {},
   "source": [
    "#### Scikit-learn Gradient Boosting"
   ]
  },
  {
   "cell_type": "code",
   "execution_count": 18,
   "id": "6ef3617c-ea38-4d7a-8fba-14e13966b6ac",
   "metadata": {},
   "outputs": [
    {
     "name": "stdout",
     "output_type": "stream",
     "text": [
      "Train Accuracy: 96.253%\n",
      "Test Accuracy: 82.950%\n"
     ]
    }
   ],
   "source": [
    "from sklearn.ensemble import GradientBoostingClassifier\n",
    "clf = GradientBoostingClassifier(random_state=0)\n",
    "clf = clf.fit(X_train, y_train)\n",
    "gb_score = clf.score(X_test, y_test)*100\n",
    "print(f\"Train Accuracy: {clf.score(X_train, y_train)*100:0.3f}%\")\n",
    "print(f\"Test Accuracy: {gb_score:0.3f}%\")"
   ]
  },
  {
   "cell_type": "markdown",
   "id": "b8e3ed85-cec8-4abe-a49c-44d67895a193",
   "metadata": {},
   "source": [
    "#### Scikit-learn Histogram Based Gradient Boosting"
   ]
  },
  {
   "cell_type": "code",
   "execution_count": 112,
   "id": "1323fe40-a0d3-4c88-ad50-e258410c8e88",
   "metadata": {},
   "outputs": [
    {
     "name": "stdout",
     "output_type": "stream",
     "text": [
      "Train Accuracy: 99.914%\n",
      "Test Accuracy: 89.623%\n"
     ]
    }
   ],
   "source": [
    "from sklearn.ensemble import HistGradientBoostingClassifier\n",
    "clf = HistGradientBoostingClassifier(random_state=0)\n",
    "clf = clf.fit(X_train, y_train)\n",
    "hist_gb_score = clf.score(X_test, y_test)*100\n",
    "print(f\"Train Accuracy: {clf.score(X_train, y_train)*100:0.3f}%\")\n",
    "print(f\"Test Accuracy: {hist_gb_score:0.3f}%\")"
   ]
  },
  {
   "cell_type": "markdown",
   "id": "ec0aec5e-2cc1-4b52-997d-98548fde4ef0",
   "metadata": {},
   "source": [
    "#### XGBClassifier"
   ]
  },
  {
   "cell_type": "code",
   "execution_count": 20,
   "id": "f27690a8-521a-4c65-a397-a2684c746988",
   "metadata": {},
   "outputs": [
    {
     "name": "stdout",
     "output_type": "stream",
     "text": [
      "[13:42:52] WARNING: C:/Users/Administrator/workspace/xgboost-win64_release_1.5.1/src/learner.cc:1115: Starting in XGBoost 1.3.0, the default evaluation metric used with the objective 'multi:softprob' was changed from 'merror' to 'mlogloss'. Explicitly set eval_metric if you'd like to restore the old behavior.\n",
      "Accuracy : 0.89823\n",
      "Model training and prediction made in 63.26021480560303\n"
     ]
    }
   ],
   "source": [
    "import time\n",
    "from sklearn.metrics import accuracy_score\n",
    "\n",
    "start = time.time()\n",
    "from xgboost import XGBClassifier\n",
    "xgb = XGBClassifier(n_estimators=1000, learning_rate=0.05, use_label_encoder=False, tree_method = \"hist\")\n",
    "xgb.fit(X_train, y_train)\n",
    "\n",
    "preds = xgb.predict(X_test)\n",
    "\n",
    "xgb_score = clf.score(X_test, y_test) * 100\n",
    "\n",
    "print('Accuracy', ':', round(accuracy_score(y_test, preds), 5))\n",
    "end = time.time()\n",
    "print(\"Model training and prediction made in {}\".format(end - start))"
   ]
  },
  {
   "cell_type": "code",
   "execution_count": 111,
   "id": "ab1a6dec-6d77-4871-bcee-d44e6a4406b1",
   "metadata": {},
   "outputs": [
    {
     "data": {
      "image/png": "[encoded data removed]",
      "text/plain": [
       "<Figure size 576x432 with 1 Axes>"
      ]
     },
     "metadata": {
      "needs_background": "light"
     },
     "output_type": "display_data"
    }
   ],
   "source": [
    "# Plot model test accuracy\n",
    "\n",
    "import seaborn as sns\n",
    "\n",
    "model_scores = [\n",
    "    lr_score,\n",
    "    knn_score,\n",
    "    nb_score,\n",
    "    svm_score,\n",
    "    dt_score,\n",
    "    rf_score,\n",
    "    bagging_score,\n",
    "    gb_score,\n",
    "    hist_gb_score, \n",
    "    xgb_score\n",
    "]\n",
    "\n",
    "model_names = ['Logisitic Regression', 'KNN', 'Naive Bayes', 'SVM', 'Decision Tree', 'Random Forest', 'Bagging', 'Gradient Boosting', 'Hist Gradient Boosting', 'XG Boosting']\n",
    "models = {}\n",
    "for i in range(len(model_scores)):\n",
    "    models[model_names[i]] = model_scores[i]\n",
    "    \n",
    "models=dict(sorted(models.items(),key= lambda x:x[1]))    \n",
    "\n",
    "x = [i for i in range(len(model_names))]\n",
    "\n",
    "#plt.bar(models.keys(), models.values(), color='green')\n",
    "\n",
    "f, ax = plt.subplots(figsize=(8, 6))\n",
    "sns.barplot(x=list(models.keys()), y=list(models.values()), palette = 'Blues')\n",
    "\n",
    "plt.xlabel(\"Model\")\n",
    "plt.ylabel(\"Test Accuracy %\")\n",
    "plt.title(\"Test Accuracy using Baseline Models\")\n",
    "\n",
    "plt.xticks(rotation=70)\n",
    "plt.yticks(np.arange(0, 110, step=10))\n",
    "\n",
    "plt.rc(\"font\", size=8)\n",
    "\n",
    "plt.show()"
   ]
  },
  {
   "cell_type": "markdown",
   "id": "807e1594-7f83-460f-8b25-0adb788fd21f",
   "metadata": {},
   "source": [
    "# Conclusions\n",
    "\n",
    "As we can see, the models with the best performance are K-Nearest Neighbors, XG Boosting, Random forest, and Histogram based Gradient boosting."
   ]
  },
  {
   "cell_type": "code",
   "execution_count": 54,
   "id": "oriental-dietary",
   "metadata": {},
   "outputs": [],
   "source": [
    "scaler = StandardScaler(with_mean=0, with_std=1)\n",
    "\n",
    "X_train, X_test, y_train, y_test = \\\n",
    "    train_test_split(X, y, test_size = 0.3, random_state = 0, stratify = y)\n",
    "\n",
    "sX_train = scaler.fit_transform(X_train)\n",
    "sX_test = scaler.fit_transform(X_test)"
   ]
  },
  {
   "cell_type": "code",
   "execution_count": 57,
   "id": "bronze-handy",
   "metadata": {},
   "outputs": [
    {
     "name": "stdout",
     "output_type": "stream",
     "text": [
      "376.6008298397064\n",
      "Best Accuracy: 91.46%\n",
      "Best Params: {'algorithm': 'auto', 'n_neighbors': 1, 'p': 1, 'weights': 'uniform'}\n",
      "Test Accuracy: 92.860%\n"
     ]
    }
   ],
   "source": [
    "from sklearn.model_selection import GridSearchCV\n",
    "\n",
    "t1 = time.time()\n",
    "\n",
    "kn = KNeighborsClassifier()\n",
    "\n",
    "params = {\n",
    "    \"n_neighbors\": range(1, 11),\n",
    "    \"weights\": [\"uniform\", \"distance\"],\n",
    "    \"algorithm\": [\"auto\", \"ball_tree\", \"kd_tree\", \"brute\"],\n",
    "    \"p\": [1, 2]\n",
    "    \n",
    "}\n",
    "\n",
    "gs = GridSearchCV(estimator=kn,\n",
    "                  param_grid=params,\n",
    "                  scoring='accuracy',\n",
    "                  cv=5)\n",
    "\n",
    "gs.fit(sX_train, y_train)\n",
    "\n",
    "print(str(time.time() - t1))\n",
    "print('Best Accuracy: %.2f%%' % (gs.best_score_*100))\n",
    "print('Best Params: %s' % gs.best_params_)\n",
    "print(f\"Test Accuracy: {gs.score(sX_test, y_test)*100:0.3f}%\")"
   ]
  },
  {
   "cell_type": "code",
   "execution_count": 86,
   "id": "official-anthony",
   "metadata": {},
   "outputs": [],
   "source": [
    "man_uni_acc = []\n",
    "man_dis_acc = []\n",
    "euc_dis_acc = []\n",
    "euc_uni_acc = []\n",
    "for i in range(1, 201):\n",
    "    t1 = time.time()\n",
    "    kn = KNeighborsClassifier(n_neighbors=i, weights=\"distance\", p=1)\n",
    "    kn.fit(sX_train, y_train)\n",
    "    man_dis_acc.append(kn.score(sX_test, y_test)*100)\n",
    "    kn = KNeighborsClassifier(n_neighbors=i, weights=\"distance\", p=2)\n",
    "    kn.fit(sX_train, y_train)\n",
    "    euc_dis_acc.append(kn.score(sX_test, y_test)*100)\n",
    "    kn = KNeighborsClassifier(n_neighbors=i, weights=\"uniform\", p=1)\n",
    "    kn.fit(sX_train, y_train)\n",
    "    man_uni_acc.append(kn.score(sX_test, y_test)*100)\n",
    "    kn = KNeighborsClassifier(n_neighbors=i, weights=\"uniform\", p=2)\n",
    "    kn.fit(sX_train, y_train)\n",
    "    euc_uni_acc.append(kn.score(sX_test, y_test)*100)"
   ]
  },
  {
   "cell_type": "code",
   "execution_count": 106,
   "id": "meaningful-ticket",
   "metadata": {},
   "outputs": [
    {
     "data": {
      "image/png": "[encoded data removed]",
      "text/plain": [
       "<Figure size 576x432 with 1 Axes>"
      ]
     },
     "metadata": {
      "needs_background": "light"
     },
     "output_type": "display_data"
    }
   ],
   "source": [
    "f, ax = plt.subplots(figsize=(8, 6));\n",
    "plt.plot(range(1, 201), man_uni_acc, label = \"Manhatten Distance, Uniform Weight\")\n",
    "plt.plot(range(1, 201), man_dis_acc, label = \"Manhatten Distance, Distance Weight\")\n",
    "plt.plot(range(1, 201), euc_uni_acc, label = \"Euclidean Distance, Uniform Weight\")\n",
    "plt.plot(range(1, 201), euc_dis_acc, label = \"Euclidean Distance, Distance Weight\")\n",
    "plt.title(\"Test Accuracy as K Neighbors Increases\")\n",
    "plt.xlabel(\"K Neighbors\")\n",
    "plt.ylabel(\"Test Accuracy\")\n",
    "plt.rc(\"font\", size=10)\n",
    "plt.legend()\n",
    "plt.show()"
   ]
  },
  {
   "cell_type": "code",
   "execution_count": 83,
   "id": "geographic-election",
   "metadata": {},
   "outputs": [
    {
     "data": {
      "text/plain": [
       "array([1, 7, 2, ..., 4, 7, 2])"
      ]
     },
     "execution_count": 83,
     "metadata": {},
     "output_type": "execute_result"
    }
   ],
   "source": [
    "kn = KNeighborsClassifier(n_neighbors=2, weights=\"distance\", p=1)\n",
    "kn.fit(sX_train, y_train)\n",
    "\n",
    "y_pred = kn.predict(sX_test)\n",
    "y_pred"
   ]
  },
  {
   "cell_type": "code",
   "execution_count": 99,
   "id": "contemporary-celebration",
   "metadata": {},
   "outputs": [
    {
     "data": {
      "image/png": "[encoded data removed]",
      "text/plain": [
       "<Figure size 576x576 with 1 Axes>"
      ]
     },
     "metadata": {
      "needs_background": "light"
     },
     "output_type": "display_data"
    }
   ],
   "source": [
    "from mlxtend.evaluate import confusion_matrix\n",
    "from mlxtend.plotting import plot_confusion_matrix\n",
    "\n",
    "confmat = confusion_matrix(y_test, y_pred)\n",
    "\n",
    "fig, ax = plot_confusion_matrix(conf_mat=confmat, show_absolute=True, show_normed=True, figsize=(8,8),  class_names=regenre_map.values())\n",
    "plt.title(\"Confusion Matrix for K Nearest Neighbors\")\n",
    "plt.rc('axes', titlesize=20)\n",
    "plt.rc('axes', labelsize=12) #fontsize of the x and y labels\n",
    "plt.rc('xtick', labelsize=14) \n",
    "plt.rc('ytick', labelsize=14) \n",
    "plt.show()"
   ]
  },
  {
   "cell_type": "code",
   "execution_count": null,
   "id": "instructional-booking",
   "metadata": {},
   "outputs": [],
   "source": []
  }
 ],
 "metadata": {
  "kernelspec": {
   "display_name": "Python 3 (ipykernel)",
   "language": "python",
   "name": "python3"
  },
  "language_info": {
   "codemirror_mode": {
    "name": "ipython",
    "version": 3
   },
   "file_extension": ".py",
   "mimetype": "text/x-python",
   "name": "python",
   "nbconvert_exporter": "python",
   "pygments_lexer": "ipython3",
   "version": "3.9.7"
  }
 },
 "nbformat": 4,
 "nbformat_minor": 5
}
